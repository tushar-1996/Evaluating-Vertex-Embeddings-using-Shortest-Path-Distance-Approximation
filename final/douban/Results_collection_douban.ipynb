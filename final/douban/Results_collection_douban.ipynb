{
  "nbformat": 4,
  "nbformat_minor": 0,
  "metadata": {
    "colab": {
      "name": "GA_DL_base_implementation_douban.ipynb",
      "provenance": [],
      "collapsed_sections": [
        "1FvsDnbHMbzW"
      ]
    },
    "kernelspec": {
      "display_name": "Python 3",
      "name": "python3"
    },
    "language_info": {
      "name": "python"
    }
  },
  "cells": [
    {
      "cell_type": "markdown",
      "metadata": {
        "id": "580AKb_bZuAI"
      },
      "source": [
        "## Source Data"
      ]
    },
    {
      "cell_type": "code",
      "metadata": {
        "colab": {
          "base_uri": "https://localhost:8080/"
        },
        "id": "jznFsNMVEezo",
        "outputId": "0b5c9453-17a6-4f8c-c90d-9f343edbaf2e"
      },
      "source": [
        "import gdown\n",
        "import tensorflow as tf\n",
        "import numpy as np\n",
        "import os\n",
        "import random\n",
        "import networkx as nx\n",
        "import csv\n",
        "\n",
        "!mkdir datasets\n",
        "!pip install pyvis\n",
        "from pyvis.network import Network\n",
        "\n",
        "#############################################################################################\n",
        "# Facebook DATASET DOWNLOADS source: https://github.com/fatemehsrz/Shortest_Distance/tree/master/data\n",
        "#############################################################################################\n",
        "# Download facebook dataset edgelist in txt format (extracted from mtx)\n",
        "#!gdown https://drive.google.com/uc?id=1v03XWRternGLDpRfKbRGoMiVX3dpOW3G -O datasets/facebook_edges.txt\n",
        "\n",
        "\n",
        "# Download douban data random landmark\n",
        "!gdown https://drive.google.com/uc?id=1cYDAovCE5V0JUGvxtKea1ltqNh2vkVfM -O ./datasets/train_douban_random.txt\n",
        "!gdown https://drive.google.com/uc?id=1Zlsg-MEvarmr5IZwvIc1yIAA_CqPbdl5 -O ./datasets/test_douban_random.txt\n",
        "\n",
        "# Download douban data corasening landmark\n",
        "!gdown https://drive.google.com/uc?id=1XxPvfkF2Jyfel-anUUcq4qgEwjgFKyww -O ./datasets/train_douban_coarsening.txt\n",
        "!gdown https://drive.google.com/uc?id=1LzS4WrfLwAhJuxIMSde5hEFVyd09qA7u -O ./datasets/test_douban_coarsening.txt\n",
        "\n",
        "\n",
        "#############################################################################################\n",
        "# Embedding DOWNLOADS\n",
        "#############################################################################################\n",
        "# Download pretrained facebook embeddings\n",
        "!gdown https://drive.google.com/uc?id=1qM59P-clGgwaZA9wC_WM38ry5RcolrzH -O datasets/douban_harp_node2vec.npy\n",
        "!gdown https://drive.google.com/uc?id=1pCNuXtIwikiAw8GsbxMtI8DY_ZHC2Kiv -O datasets/douban_harp_line.npy\n",
        "!gdown https://drive.google.com/uc?id=1XNc2LcfDOVvmy2T1DwcYZna_BzP93hvn -O datasets/douban_node2vec.npy\n",
        "\n",
        "\n",
        "\n",
        "\n",
        "#############################################################################################\n",
        "# BlogCatalog DATASET DOWNLOADS source: http://datasets.syr.edu/pages/datasets.html\n",
        "#############################################################################################\n",
        "# Download blogcatalog dataset edgelist in cvs format\n",
        "#!gdown https://drive.google.com/uc?id=1EcaUE7hyzTLybL-6oLrSiLzRXzlNLS1i -O datasets/blogcatalog_edges.csv\n",
        "\n",
        "#############################################################################################\n",
        "# Douban DATASET DOWNLOADS source: http://datasets.syr.edu/pages/datasets.html\n",
        "#############################################################################################\n",
        "# Download blogcatalog dataset edgelist in cvs format\n",
        "#!gdown https://drive.google.com/uc?id=1ssjgKF5WpiXcIk7DfF6BXwPoWkqr5rOS -O datasets/douban_edges.csv\n",
        "\n",
        "#############################################################################################\n",
        "# Lastfm DATASET DOWNLOADS source: http://datasets.syr.edu/pages/datasets.html\n",
        "#############################################################################################\n",
        "# Download blogcatalog dataset edgelist in cvs format\n",
        "#!gdown https://drive.google.com/uc?id=1S83GMt_ARPfHFtoV_fpJHsFv5pqUrUWF -O datasets/lastfm_edges.csv\n",
        "\n",
        "#############################################################################################\n",
        "# Youtube DATASET DOWNLOADS  source: http://datasets.syr.edu/pages/datasets.html\n",
        "#############################################################################################\n",
        "#!gdown https://drive.google.com/uc?id=12aGrbOZqVMfOP46X8lj5qwqQui4kbMjZ -O datasets/youtube_edges.csv\n",
        "\n",
        "#############################################################################################\n",
        "# Flickr DATASET DOWNLOADS  source: http://networkrepository.com/soc-flickr-und.php\n",
        "#############################################################################################\n",
        "#!gdown https://drive.google.com/uc?id=1UFr2R3hBkWW22Ulke0cczzL9Qt3ySNMw -O datasets/flickr_edges.txt\n",
        "\n",
        "#############################################################################################\n",
        "# FRAMEWORK SETUPS\n",
        "#############################################################################################\n",
        "# Graph embeddings framework @see: https://github.com/shenweichen/GraphEmbedding\n",
        "!gdown https://drive.google.com/uc?id=1QwaC2pz6wC8QGAA1N7208SxEzdPfkn3S -O GraphEmbedding.zip\n",
        "!unzip GraphEmbedding.zip\n",
        "# HARP\n",
        "#!gdown https://drive.google.com/uc?id=174k2qDmDhXrKFivGD00jBWAvJp9b1kiq -O HARP.zip\n",
        "#!unzip HARP.zip"
      ],
      "execution_count": null,
      "outputs": [
        {
          "output_type": "stream",
          "text": [
            "mkdir: cannot create directory ‘datasets’: File exists\n",
            "Requirement already satisfied: pyvis in /usr/local/lib/python3.7/dist-packages (0.1.9)\n",
            "Requirement already satisfied: ipython>=5.3.0 in /usr/local/lib/python3.7/dist-packages (from pyvis) (5.5.0)\n",
            "Requirement already satisfied: jsonpickle>=1.4.1 in /usr/local/lib/python3.7/dist-packages (from pyvis) (2.0.0)\n",
            "Requirement already satisfied: networkx>=1.11 in /usr/local/lib/python3.7/dist-packages (from pyvis) (2.6.2)\n",
            "Requirement already satisfied: jinja2>=2.9.6 in /usr/local/lib/python3.7/dist-packages (from pyvis) (2.11.3)\n",
            "Requirement already satisfied: traitlets>=4.2 in /usr/local/lib/python3.7/dist-packages (from ipython>=5.3.0->pyvis) (5.0.5)\n",
            "Requirement already satisfied: pickleshare in /usr/local/lib/python3.7/dist-packages (from ipython>=5.3.0->pyvis) (0.7.5)\n",
            "Requirement already satisfied: pexpect in /usr/local/lib/python3.7/dist-packages (from ipython>=5.3.0->pyvis) (4.8.0)\n",
            "Requirement already satisfied: prompt-toolkit<2.0.0,>=1.0.4 in /usr/local/lib/python3.7/dist-packages (from ipython>=5.3.0->pyvis) (1.0.18)\n",
            "Requirement already satisfied: setuptools>=18.5 in /usr/local/lib/python3.7/dist-packages (from ipython>=5.3.0->pyvis) (57.4.0)\n",
            "Requirement already satisfied: simplegeneric>0.8 in /usr/local/lib/python3.7/dist-packages (from ipython>=5.3.0->pyvis) (0.8.1)\n",
            "Requirement already satisfied: pygments in /usr/local/lib/python3.7/dist-packages (from ipython>=5.3.0->pyvis) (2.6.1)\n",
            "Requirement already satisfied: decorator in /usr/local/lib/python3.7/dist-packages (from ipython>=5.3.0->pyvis) (4.4.2)\n",
            "Requirement already satisfied: MarkupSafe>=0.23 in /usr/local/lib/python3.7/dist-packages (from jinja2>=2.9.6->pyvis) (2.0.1)\n",
            "Requirement already satisfied: importlib-metadata in /usr/local/lib/python3.7/dist-packages (from jsonpickle>=1.4.1->pyvis) (4.6.3)\n",
            "Requirement already satisfied: wcwidth in /usr/local/lib/python3.7/dist-packages (from prompt-toolkit<2.0.0,>=1.0.4->ipython>=5.3.0->pyvis) (0.2.5)\n",
            "Requirement already satisfied: six>=1.9.0 in /usr/local/lib/python3.7/dist-packages (from prompt-toolkit<2.0.0,>=1.0.4->ipython>=5.3.0->pyvis) (1.15.0)\n",
            "Requirement already satisfied: ipython-genutils in /usr/local/lib/python3.7/dist-packages (from traitlets>=4.2->ipython>=5.3.0->pyvis) (0.2.0)\n",
            "Requirement already satisfied: typing-extensions>=3.6.4 in /usr/local/lib/python3.7/dist-packages (from importlib-metadata->jsonpickle>=1.4.1->pyvis) (3.7.4.3)\n",
            "Requirement already satisfied: zipp>=0.5 in /usr/local/lib/python3.7/dist-packages (from importlib-metadata->jsonpickle>=1.4.1->pyvis) (3.5.0)\n",
            "Requirement already satisfied: ptyprocess>=0.5 in /usr/local/lib/python3.7/dist-packages (from pexpect->ipython>=5.3.0->pyvis) (0.7.0)\n",
            "Downloading...\n",
            "From: https://drive.google.com/uc?id=1cYDAovCE5V0JUGvxtKea1ltqNh2vkVfM\n",
            "To: /content/datasets/train_douban_random.txt\n",
            "24.1MB [00:01, 20.7MB/s]\n",
            "Downloading...\n",
            "From: https://drive.google.com/uc?id=1Zlsg-MEvarmr5IZwvIc1yIAA_CqPbdl5\n",
            "To: /content/datasets/test_douban_random.txt\n",
            "8.50MB [00:00, 39.8MB/s]\n",
            "Downloading...\n",
            "From: https://drive.google.com/uc?id=1XxPvfkF2Jyfel-anUUcq4qgEwjgFKyww\n",
            "To: /content/datasets/train_douban_coarsening.txt\n",
            "24.1MB [00:00, 147MB/s]\n",
            "Downloading...\n",
            "From: https://drive.google.com/uc?id=1LzS4WrfLwAhJuxIMSde5hEFVyd09qA7u\n",
            "To: /content/datasets/test_douban_coarsening.txt\n",
            "8.67MB [00:00, 76.0MB/s]\n",
            "Downloading...\n",
            "From: https://drive.google.com/uc?id=1qM59P-clGgwaZA9wC_WM38ry5RcolrzH\n",
            "To: /content/datasets/douban_harp_node2vec.npy\n",
            "79.3MB [00:00, 191MB/s]\n",
            "Downloading...\n",
            "From: https://drive.google.com/uc?id=1pCNuXtIwikiAw8GsbxMtI8DY_ZHC2Kiv\n",
            "To: /content/datasets/douban_harp_line.npy\n",
            "79.3MB [00:00, 190MB/s]\n",
            "Downloading...\n",
            "From: https://drive.google.com/uc?id=1XNc2LcfDOVvmy2T1DwcYZna_BzP93hvn\n",
            "To: /content/datasets/douban_node2vec.npy\n",
            "79.3MB [00:00, 191MB/s]\n",
            "Downloading...\n",
            "From: https://drive.google.com/uc?id=1QwaC2pz6wC8QGAA1N7208SxEzdPfkn3S\n",
            "To: /content/GraphEmbedding.zip\n",
            "100% 1.06M/1.06M [00:00<00:00, 70.4MB/s]\n",
            "Archive:  GraphEmbedding.zip\n",
            "replace __MACOSX/._GraphEmbedding? [y]es, [n]o, [A]ll, [N]one, [r]ename: N\n"
          ],
          "name": "stdout"
        }
      ]
    },
    {
      "cell_type": "markdown",
      "metadata": {
        "id": "N424bAbUZ1GF"
      },
      "source": [
        "## Set Flags and Seed"
      ]
    },
    {
      "cell_type": "code",
      "metadata": {
        "id": "AS27mlESXLVW"
      },
      "source": [
        "dataset = \"douban\" # possible values: facebook, blogcatalog, douban, lastfm, youtube, flickr\n",
        "is_new_data_split = False # sets whether to create new data and train set or rely on existing train-test files which were downloaded before\n",
        "landmark_technique = \"random\" # possible values: random, coarsening, community_detection\n",
        "embedding_method = \"node2vec\" # possible values: node2vec, struc2vec, deepwalk, line, sdne, harp_node2vec, harp_deepwalk, harp_line\n",
        "\n",
        "# Setting different seeds for reproducability\n",
        "seed_value= 122\n",
        "os.environ['PYTHONHASHSEED']=str(seed_value)\n",
        "random.seed(seed_value)\n",
        "np.random.seed(seed_value)\n",
        "tf.random.set_seed(seed_value)"
      ],
      "execution_count": null,
      "outputs": []
    },
    {
      "cell_type": "markdown",
      "metadata": {
        "id": "zarxfDHgZ4ic"
      },
      "source": [
        "## Preprocess Data"
      ]
    },
    {
      "cell_type": "markdown",
      "metadata": {
        "id": "_M48aM88aLcS"
      },
      "source": [
        "### Split Train-Test"
      ]
    },
    {
      "cell_type": "markdown",
      "metadata": {
        "id": "2GbtDsH63yOY"
      },
      "source": [
        "#### Load train set"
      ]
    },
    {
      "cell_type": "code",
      "metadata": {
        "id": "ltcgTe6O0Nlr"
      },
      "source": [
        "\n",
        "def load_training_data(dataset, landmark_technique):\n",
        "  train_list1 = []\n",
        "  train_list2 = []\n",
        "  y_train = []\n",
        "  f_train = open('./datasets/train_'+dataset+'_'+landmark_technique+'.txt', 'r')\n",
        "  for line in f_train:\n",
        "    a=line.strip('\\n').split(' ')\n",
        "    train_list1.append(int(a[0])) \n",
        "    train_list2.append(int(a[1]))\n",
        "    y_train.append(int(a[2]))\n",
        "  f_train.close()\n",
        "  print(\"Number of training pairs:\", len(y_train))\n",
        "  print(\"Path Lengths in train set: \",np.unique(np.array(y_train)),\" Size of each length: \", np.unique(np.array(y_train),return_counts=True)[1])\n",
        "  return train_list1, train_list2, y_train\n"
      ],
      "execution_count": null,
      "outputs": []
    },
    {
      "cell_type": "markdown",
      "metadata": {
        "id": "jSRj70Tc38VA"
      },
      "source": [
        "#### Load test set"
      ]
    },
    {
      "cell_type": "code",
      "metadata": {
        "id": "LYEkT3W45rHP"
      },
      "source": [
        "def load_testing_data(dataset, landmark_technique):\n",
        "\n",
        "  y_test = []\n",
        "\n",
        "  # Load test set from txt\n",
        "  test_list1=[]\n",
        "  test_list2=[]    \n",
        "  f_test= open('./datasets/test_'+dataset+'_'+landmark_technique+'.txt', 'r') \n",
        "\n",
        "  for line in f_test:\n",
        "    a=line.strip('\\n').split(' ')\n",
        "    test_list1.append(int(a[0])) \n",
        "    test_list2.append(int(a[1]))\n",
        "    y_test.append(int(a[2]))\n",
        "  f_test.close()\n",
        "  print(\"Number of testing pairs:\", len(y_test))\n",
        "  print(\"Path Lengths in test set: \",np.unique(np.array(y_test)),\" Size of each length: \", np.unique(np.array(y_test),return_counts=True)[1])\n",
        "  return test_list1, test_list2, y_test\n"
      ],
      "execution_count": null,
      "outputs": []
    },
    {
      "cell_type": "markdown",
      "metadata": {
        "id": "pm8RRfRWZsFS"
      },
      "source": [
        "## Create Emeddings"
      ]
    },
    {
      "cell_type": "markdown",
      "metadata": {
        "id": "GKqrzz5ekPu9"
      },
      "source": [
        "#### Train embeddings"
      ]
    },
    {
      "cell_type": "code",
      "metadata": {
        "id": "56myKS58kSOn"
      },
      "source": [
        "from GraphEmbedding.ge.models import Node2Vec, DeepWalk, SDNE, Struc2Vec, LINE\n",
        "from collections import OrderedDict\n",
        "\n",
        "def load_embedding(embedding_method=\"node2vec\", dataset=\"facebook\"):\n",
        "  try:\n",
        "    embedding_vectors_res = np.load(\"./datasets/\"+dataset+\"_\"+embedding_method+\".npy\")\n",
        "  except:\n",
        "    print(\"The requested embedding does not exist\")\n",
        "  print(\"EMBEDDING VECTORS SHAPE:\", embedding_vectors_res.shape)\n",
        "  return embedding_vectors_res\n"
      ],
      "execution_count": null,
      "outputs": []
    },
    {
      "cell_type": "markdown",
      "metadata": {
        "id": "DJcSNYx8HJIH"
      },
      "source": [
        "### Preprocess embeddings"
      ]
    },
    {
      "cell_type": "code",
      "metadata": {
        "id": "snhYV62ZvyP6"
      },
      "source": [
        "def preprocess_embeddings(embedding_vectors, train_list1, train_list2, test_list1, test_list2, emb_size = 128, con_type = \"avg\"):\n",
        "  X_train_binary = []\n",
        "  X_test_binary = []\n",
        "  print(embedding_vectors.shape)\n",
        "  for i in range(len(train_list1)):\n",
        "    if con_type == \"avg\":\n",
        "      con_x = (embedding_vectors[train_list1[i]] + embedding_vectors[train_list2[i]])/2 \n",
        "    elif con_type == \"concat\":\n",
        "      con_x = np.concatenate( [embedding_vectors[train_list1[i]],embedding_vectors[train_list2[i]]], axis=0)\n",
        "    elif con_type == \"hadamard\":\n",
        "      con_x = embedding_vectors[train_list1[i]] * embedding_vectors[train_list2[i]]\n",
        "    elif con_type ==\"sub\":\n",
        "      con_x = embedding_vectors[train_list1[i]] - embedding_vectors[train_list2[i]]\n",
        "    elif con_type ==\"conv\":\n",
        "      con_x = [embedding_vectors[train_list1[i]],embedding_vectors[train_list2[i]]]\n",
        "\n",
        "    X_train_binary.append(con_x)\n",
        "\n",
        "  for i in range(len(test_list1)):\n",
        "    if con_type == \"avg\":\n",
        "      con_x = (embedding_vectors[test_list1[i]] + embedding_vectors[test_list2[i]])/2\n",
        "    elif con_type == \"concat\":\n",
        "      con_x = np.concatenate( [embedding_vectors[test_list1[i]],embedding_vectors[test_list2[i]]], axis=0)\n",
        "    elif con_type == \"hadamard\":\n",
        "      con_x = embedding_vectors[test_list1[i]] * embedding_vectors[test_list2[i]]\n",
        "    elif con_type ==\"sub\":\n",
        "      con_x = embedding_vectors[test_list1[i]] - embedding_vectors[test_list2[i]]\n",
        "    elif con_type ==\"conv\":\n",
        "      con_x = [embedding_vectors[test_list1[i]],embedding_vectors[test_list2[i]]]\n",
        "\n",
        "    X_test_binary.append(con_x)\n",
        "\n",
        "  print(\"Embedded training set size:\", len(X_train_binary))\n",
        "  print(\"Embedded test set size:\", len(X_test_binary))\n",
        "\n",
        "  train_test_split = [np.array(X_train_binary), np.array(y_train), np.array(X_test_binary), np.array(y_test)]\n",
        "  if con_type == \"conv\":\n",
        "    train_test_split[0] = train_test_split[0].reshape(-1, 2, emb_size, 1)\n",
        "    train_test_split[2] = train_test_split[2].reshape(-1, 2, emb_size, 1)\n",
        "\n",
        "  print(\"Train test split summary: \\n\", \"Train X shape:\", train_test_split[0].shape\\\n",
        "        ,\"Train y shape:\", train_test_split[1].shape,\n",
        "        \"\\n Test X shape:\", train_test_split[2].shape,\n",
        "        \"Test y shape:\", train_test_split[3].shape)\n",
        "  return train_test_split\n",
        "\n",
        "# Shuffle for train data before training\n",
        "def shuffle_in_unison(a, b):\n",
        "    rng_state = np.random.get_state()\n",
        "    np.random.shuffle(a)\n",
        "    np.random.set_state(rng_state)\n",
        "    np.random.shuffle(b)"
      ],
      "execution_count": null,
      "outputs": []
    },
    {
      "cell_type": "markdown",
      "metadata": {
        "id": "xK71AWg3hc9O"
      },
      "source": [
        "# Models"
      ]
    },
    {
      "cell_type": "markdown",
      "metadata": {
        "id": "LmOThLt3ZE2b"
      },
      "source": [
        "## MLP Regression"
      ]
    },
    {
      "cell_type": "code",
      "metadata": {
        "id": "17FvYGneG-74"
      },
      "source": [
        "import tensorflow.keras as keras \n",
        "from tensorflow.keras.models import Sequential\n",
        "from tensorflow.keras.layers import Conv2D,BatchNormalization,Dense, Dropout, Activation, Flatten\n",
        "from tensorflow.keras.optimizers import SGD\n",
        "\n",
        "def create_regression_model(input_dim, emb_size=128):\n",
        "  model = Sequential()\n",
        "  model.add(Dense(emb_size, input_dim=input_dim))\n",
        "  model.add(Activation('relu'))\n",
        "  model.add(Dropout(0.4))\n",
        "\n",
        "  dense_size= int(0.2*input_dim)\n",
        "  model.add(Dense(dense_size))\n",
        "  model.add(Activation('relu'))\n",
        "  model.add(Dropout(0.4))\n",
        "\n",
        "  model.add(Dense(1))\n",
        "  model.add(Activation('softplus'))\n",
        "\n",
        "  opt=SGD(learning_rate=0.05, momentum=0.2)\n",
        "  model.compile(loss='mse', optimizer='sgd', metrics=['mae'])\n",
        "  #model.summary()\n",
        "  return model"
      ],
      "execution_count": null,
      "outputs": []
    },
    {
      "cell_type": "markdown",
      "metadata": {
        "id": "PVGE_gZrr9af"
      },
      "source": [
        "## MLP Regression with Conv Concat"
      ]
    },
    {
      "cell_type": "code",
      "metadata": {
        "id": "SQRurdsBsBf1"
      },
      "source": [
        "def create_regression_conv_model(emb_size=128):\n",
        "\n",
        "  model = Sequential()\n",
        "  model.add(Conv2D(1, (2,1),kernel_constraint=\"non_neg\",use_bias=False,input_shape=(2,emb_size,1)))\n",
        "  model.add(Flatten())\n",
        "  model.add(Dense(emb_size))\n",
        "  model.add(Activation('relu'))\n",
        "  model.add(Dropout(0.4))\n",
        "\n",
        "  dense_size= int(0.2*emb_size)\n",
        "  model.add(Dense(dense_size))\n",
        "\n",
        "  model.add(Activation('relu'))\n",
        "  model.add(Dropout(0.4))\n",
        "\n",
        "  model.add(Dense(1))\n",
        "  model.add(Activation('softplus'))\n",
        "\n",
        "  opt=SGD(learning_rate=0.05, momentum=0.01)\n",
        "  model.compile(loss='mse', optimizer=opt, metrics=['mae'])\n",
        "  return model"
      ],
      "execution_count": null,
      "outputs": []
    },
    {
      "cell_type": "markdown",
      "metadata": {
        "id": "jf-Wz7QUGrVT"
      },
      "source": [
        "# Train Model"
      ]
    },
    {
      "cell_type": "code",
      "metadata": {
        "id": "90BTIHFGkC5_"
      },
      "source": [
        "import keras.callbacks as cb\n",
        "from keras.callbacks import LambdaCallback\n",
        "\n",
        "def train_regressor(model, X_train, y_train, epochs=15, batch_size = 32):\n",
        "  class LossHistory(cb.Callback):\n",
        "      def on_train_begin(self, logs={}):\n",
        "          self.losses = []\n",
        "\n",
        "      def on_batch_end(self, batch, logs={}):\n",
        "          batch_loss = logs.get('loss')\n",
        "          self.losses.append(batch_loss)\n",
        "  history = LossHistory()\n",
        "  model.fit(X_train, y_train, epochs= epochs, batch_size= batch_size, callbacks=[history], validation_split= 0.3, verbose=2)"
      ],
      "execution_count": null,
      "outputs": []
    },
    {
      "cell_type": "markdown",
      "metadata": {
        "id": "FGpI_bBUG9Iw"
      },
      "source": [
        "# Test Model"
      ]
    },
    {
      "cell_type": "code",
      "metadata": {
        "id": "Sj94v-Fx-hT9"
      },
      "source": [
        "from sklearn.metrics import mean_squared_error, mean_absolute_error\n",
        "from sklearn.metrics import accuracy_score,precision_score,recall_score,f1_score\n",
        "import matplotlib.pyplot as plt\n",
        "\n",
        "def test_model(model,X_train, X_test, y_test):\n",
        "  preds = model.predict(X_test)\n",
        "  pred = []\n",
        "\n",
        "  for i in range(len(preds)):\n",
        "    pred.append(round(float(preds[i][0])))\n",
        "\n",
        "  rmse = (mean_squared_error(y_test, pred))**0.5\n",
        "  mae = mean_absolute_error(y_test, pred)\n",
        "  print(\"RMSE:\", rmse, \"MAE:\", mae, \"\\nSummary:\", \"Train size:\", len(X_train), \"Test size:\", len(X_test))\n",
        "  \n",
        "  accuracy = accuracy_score(y_test,pred)\n",
        "  print('Accuracy: %f' % accuracy)\n",
        "  print('Paths: \\t\\t',np.unique(y_test))\n",
        "  precision = precision_score(y_test,pred,average=None)\n",
        "  print('Precision: \\t' , precision)\n",
        "  recall = recall_score(y_test,pred,average=None)\n",
        "  print('Recall: \\t' , recall)\n",
        "  f1 = f1_score(y_test,pred,average=None)\n",
        "  print('F1 score: \\t', f1)\n",
        "\n",
        "  return rmse, mae, accuracy, precision, recall, f1\n",
        "\n",
        "def test_model_detailed(model, X_test, y_test):\n",
        "  preds = model.predict(X_test)\n",
        "  pred = []\n",
        "\n",
        "  indexes_2 = []\n",
        "  indexes_3 = []\n",
        "  indexes_4 = []\n",
        "  indexes_5 = []\n",
        "  indexes_6 = []\n",
        "  y_test_2 = []\n",
        "  y_test_3 = []\n",
        "  y_test_4 = []\n",
        "  y_test_5 = []\n",
        "  y_test_6 = []\n",
        "\n",
        "  pred_2 = []\n",
        "  pred_3 = []\n",
        "  pred_4 = []\n",
        "  pred_5 = []\n",
        "  pred_6 = []\n",
        "\n",
        "  for i in range(len(y_test)):\n",
        "      if y_test[i]==2:\n",
        "          indexes_2.append(i)\n",
        "          y_test_2.append(y_test[i])\n",
        "      if y_test[i]==3:\n",
        "          indexes_3.append(i)\n",
        "          y_test_3.append(y_test[i])\n",
        "      if y_test[i]==4:\n",
        "          indexes_4.append(i)\n",
        "          y_test_4.append(y_test[i])\n",
        "      if y_test[i]==5:\n",
        "          indexes_5.append(i)\n",
        "          y_test_5.append(y_test[i])\n",
        "      if y_test[i]==6:\n",
        "          indexes_6.append(i)\n",
        "          y_test_6.append(y_test[i])\n",
        "\n",
        "  for i in range(len(y_test_2)):\n",
        "    pred_2.append(round(float(preds[indexes_2[i]][0])))\n",
        "\n",
        "  for i in range(len(y_test_3)):\n",
        "    pred_3.append(round(float(preds[indexes_3[i]][0])))\n",
        "\n",
        "  for i in range(len(y_test_4)):\n",
        "    pred_4.append(round(float(preds[indexes_4[i]][0])))\n",
        "\n",
        "  for i in range(len(y_test_5)):\n",
        "    pred_5.append(round(float(preds[indexes_5[i]][0])))\n",
        "\n",
        "  for i in range(len(y_test_6)):\n",
        "    pred_6.append(round(float(preds[indexes_6[i]][0])))\n",
        "\n",
        "  rmse2 = (mean_squared_error(y_test_2, pred_2))**0.5\n",
        "  mae2 = mean_absolute_error(y_test_2, pred_2)\n",
        "\n",
        "  rmse3 = (mean_squared_error(y_test_3, pred_3))**0.5\n",
        "  mae3 = mean_absolute_error(y_test_3, pred_3)\n",
        "\n",
        "  rmse4 = (mean_squared_error(y_test_4, pred_4))**0.5\n",
        "  mae4 = mean_absolute_error(y_test_4, pred_4)\n",
        "\n",
        "  rmse5 = (mean_squared_error(y_test_5, pred_5))**0.5\n",
        "  mae5 = mean_absolute_error(y_test_5, pred_5)\n",
        "\n",
        "  rmse6 = (mean_squared_error(y_test_6, pred_6))**0.5\n",
        "  mae6 = mean_absolute_error(y_test_6, pred_6)\n",
        "\n",
        "  print(\"RMSE at length 2:\", rmse2, \"MAE at length 2:\", mae2)\n",
        "  print(\"RMSE at length 3:\", rmse3, \"MAE at length 3:\", mae3)\n",
        "  print(\"RMSE at length 4:\", rmse4, \"MAE at length 4:\", mae4)\n",
        "  print(\"RMSE at length 5:\", rmse5, \"MAE at length 5:\", mae5)\n",
        "  print(\"RMSE at length 6:\", rmse6, \"MAE at length 6:\", mae6)\n",
        "  return rmse2, mae2, rmse3, mae3, rmse4, mae4, rmse5, mae5, rmse6, mae6\n",
        "\n",
        "def plot_test_losses(model, X_test, y_test):\n",
        "    rmse2, mae2, rmse3, mae3, rmse4, mae4, rmse5, mae5, rmse6, mae6 = test_model_detailed(model, X_test, y_test)\n",
        "\n",
        "    labels = ['SP2', 'SP3', 'SP4', 'SP5', 'SP6']\n",
        "    rmse_values = [rmse2, rmse3, rmse4, rmse5, rmse6]\n",
        "    mae_values = [mae2, mae3, mae4, mae5, mae6]\n",
        "\n",
        "    x = np.arange(len(labels))  # the label locations\n",
        "    width = 0.35  # the width of the bars\n",
        "\n",
        "    fig, ax = plt.subplots()\n",
        "    rects1 = ax.bar(x - width/2, rmse_values, width, label='RMSE')\n",
        "    rects2 = ax.bar(x + width/2, mae_values, width, label='MAE')\n",
        "\n",
        "    # Add some text for labels, title and custom x-axis tick labels, etc.\n",
        "    ax.set_ylabel('Loss values')\n",
        "    ax.set_title('Losses by shortest path distance')\n",
        "    ax.set_xticks(x)\n",
        "    ax.set_xticklabels(labels)\n",
        "    ax.legend()\n",
        "\n",
        "    fig.tight_layout()\n",
        "\n",
        "    plt.show()"
      ],
      "execution_count": null,
      "outputs": []
    },
    {
      "cell_type": "markdown",
      "metadata": {
        "id": "UmZnGlX_JqBP"
      },
      "source": [
        "### Train test loop"
      ]
    },
    {
      "cell_type": "code",
      "metadata": {
        "id": "R0E1BdLxJslA"
      },
      "source": [
        "def train_test_loop(emb_method, epochs, dataset ):\n",
        "  print(\"#### TRAIN TEST LOOP\")\n",
        "  # Create Embeddings\n",
        "  embedding_vectors = load_embedding(embedding_method= emb_method, dataset=dataset)\n",
        "\n",
        "  # Test with avg binary operator\n",
        "  print(\"Embedding method: \", emb_method, \"Binary operator: avg\")\n",
        "  X_train, y_train, X_test, y_test = preprocess_embeddings(embedding_vectors, train_list1, train_list2, test_list1, test_list2, 128,\"avg\")\n",
        "  shuffle_in_unison(X_train, y_train)\n",
        "  print(\"\\n\")\n",
        "  model = create_regression_model(X_train.shape[1])\n",
        "  print(\"\\n\")\n",
        "  train_regressor(model, X_train, y_train, epochs=epochs)\n",
        "  print(\"\\n\")\n",
        "  test_model(model, X_train, X_test, y_test)\n",
        "  plot_test_losses(model, X_test, y_test)\n",
        "  # Test with conc binary operator\n",
        "  print(\"Embedding method: \", emb_method, \"Binary operator: concat\")\n",
        "  X_train, y_train, X_test, y_test = preprocess_embeddings(embedding_vectors, train_list1, train_list2, test_list1, test_list2, 128,\"concat\")\n",
        "  shuffle_in_unison(X_train, y_train)\n",
        "  print(\"\\n\")\n",
        "  model = create_regression_model(X_train.shape[1])\n",
        "  print(\"\\n\")\n",
        "  train_regressor(model, X_train, y_train, epochs=epochs)\n",
        "  print(\"\\n\")\n",
        "  test_model(model, X_train, X_test, y_test)\n",
        "  plot_test_losses(model, X_test, y_test)\n",
        "  # Test with convolution\n",
        "  print(\"Embedding method: \", emb_method, \"Binary operator: conv\")\n",
        "  X_train, y_train, X_test, y_test = preprocess_embeddings(embedding_vectors, train_list1, train_list2, test_list1, test_list2, 128,\"conv\")\n",
        "  shuffle_in_unison(X_train, y_train)\n",
        "  print(\"\\n\")\n",
        "  model = create_regression_conv_model()\n",
        "  print(\"\\n\")\n",
        "  train_regressor(model, X_train, y_train, epochs=epochs)\n",
        "  print(\"\\n\")\n",
        "  test_model(model, X_train, X_test, y_test)\n",
        "  plot_test_losses(model, X_test, y_test)"
      ],
      "execution_count": null,
      "outputs": []
    },
    {
      "cell_type": "markdown",
      "metadata": {
        "id": "WXnXFErif3mw"
      },
      "source": [
        "### Run tests\n",
        "\n"
      ]
    },
    {
      "cell_type": "code",
      "metadata": {
        "colab": {
          "base_uri": "https://localhost:8080/",
          "height": 1000
        },
        "id": "NObkwuzBwXqr",
        "outputId": "73b97dda-34c3-4999-ccae-5c307de3cd3c"
      },
      "source": [
        "landmark_techniques = [\"coarsening\"]\n",
        "embedding_techniques = [\"node2vec\", \"harp_node2vec\", \"harp_line\"]\n",
        "for landmark_technique in landmark_techniques:\n",
        "  print(\"### LANDMARK RUN\", landmark_technique, \"###\")\n",
        "  train_list1, train_list2, y_train = load_training_data(dataset, landmark_technique)\n",
        "  test_list1, test_list2, y_test = load_testing_data(dataset, landmark_technique)\n",
        "  for embedding_technique in embedding_techniques:\n",
        "    print(\"### EMBEDDING RUN\", embedding_technique, \"###\")\n",
        "    train_test_loop(emb_method = embedding_technique, epochs= 15,dataset= dataset) # No embeddings params set as default values are the optimised ones\n"
      ],
      "execution_count": null,
      "outputs": [
        {
          "output_type": "stream",
          "text": [
            "### LANDMARK RUN coarsening ###\n",
            "Number of training pairs: 1769053\n",
            "Path Lengths in train set:  [2 3 4 5 6]  Size of each length:  [464652 462245 431418 299136 111602]\n",
            "Number of testing pairs: 604236\n",
            "Path Lengths in test set:  [2 3 4 5 6]  Size of each length:  [154904 154800 152789 116422  25321]\n",
            "### EMBEDDING RUN node2vec ###\n",
            "#### TRAIN TEST LOOP\n",
            "EMBEDDING VECTORS SHAPE: (154907, 128)\n",
            "Embedding method:  node2vec Binary operator: avg\n",
            "(154907, 128)\n",
            "Embedded training set size: 1769053\n",
            "Embedded test set size: 604236\n",
            "Train test split summary: \n",
            " Train X shape: (1769053, 128) Train y shape: (1769053,) \n",
            " Test X shape: (604236, 128) Test y shape: (604236,)\n",
            "\n",
            "\n",
            "\n",
            "\n",
            "Epoch 1/15\n",
            "38699/38699 - 52s - loss: 0.4221 - mae: 0.5043 - val_loss: 0.2174 - val_mae: 0.3597\n",
            "Epoch 2/15\n",
            "38699/38699 - 61s - loss: 0.3088 - mae: 0.4329 - val_loss: 0.1862 - val_mae: 0.3172\n",
            "Epoch 3/15\n",
            "38699/38699 - 52s - loss: 0.2853 - mae: 0.4147 - val_loss: 0.1711 - val_mae: 0.2872\n",
            "Epoch 4/15\n",
            "38699/38699 - 61s - loss: 0.2734 - mae: 0.4048 - val_loss: 0.1635 - val_mae: 0.2955\n",
            "Epoch 5/15\n",
            "38699/38699 - 62s - loss: 0.2643 - mae: 0.3973 - val_loss: 0.1546 - val_mae: 0.2908\n",
            "Epoch 6/15\n",
            "38699/38699 - 52s - loss: 0.2583 - mae: 0.3920 - val_loss: 0.1536 - val_mae: 0.2803\n",
            "Epoch 7/15\n",
            "38699/38699 - 53s - loss: 0.2536 - mae: 0.3879 - val_loss: 0.1460 - val_mae: 0.2764\n",
            "Epoch 8/15\n",
            "38699/38699 - 62s - loss: 0.2504 - mae: 0.3849 - val_loss: 0.1684 - val_mae: 0.3297\n",
            "Epoch 9/15\n",
            "38699/38699 - 62s - loss: 0.2469 - mae: 0.3816 - val_loss: 0.1434 - val_mae: 0.2654\n",
            "Epoch 10/15\n",
            "38699/38699 - 61s - loss: 0.2441 - mae: 0.3792 - val_loss: 0.1332 - val_mae: 0.2518\n",
            "Epoch 11/15\n",
            "38699/38699 - 61s - loss: 0.2422 - mae: 0.3773 - val_loss: 0.1371 - val_mae: 0.2588\n",
            "Epoch 12/15\n",
            "38699/38699 - 64s - loss: 0.2398 - mae: 0.3751 - val_loss: 0.1357 - val_mae: 0.2595\n",
            "Epoch 13/15\n",
            "38699/38699 - 63s - loss: 0.2385 - mae: 0.3738 - val_loss: 0.1331 - val_mae: 0.2567\n",
            "Epoch 14/15\n",
            "38699/38699 - 61s - loss: 0.2367 - mae: 0.3719 - val_loss: 0.1314 - val_mae: 0.2529\n",
            "Epoch 15/15\n",
            "38699/38699 - 51s - loss: 0.2358 - mae: 0.3709 - val_loss: 0.1370 - val_mae: 0.2597\n",
            "\n",
            "\n",
            "RMSE: 1.936090810479744 MAE: 1.6536303695906898 \n",
            "Summary: Train size: 1769053 Test size: 604236\n",
            "Accuracy: 0.127262\n",
            "Paths: \t\t [2 3 4 5 6]\n"
          ],
          "name": "stdout"
        },
        {
          "output_type": "stream",
          "text": [
            "/usr/local/lib/python3.7/dist-packages/sklearn/metrics/_classification.py:1272: UndefinedMetricWarning: Precision is ill-defined and being set to 0.0 in labels with no predicted samples. Use `zero_division` parameter to control this behavior.\n",
            "  _warn_prf(average, modifier, msg_start, len(result))\n"
          ],
          "name": "stderr"
        },
        {
          "output_type": "stream",
          "text": [
            "Precision: \t [0.         1.         0.21404481 0.11260528 0.14541727 0.\n",
            " 0.        ]\n"
          ],
          "name": "stdout"
        },
        {
          "output_type": "stream",
          "text": [
            "/usr/local/lib/python3.7/dist-packages/sklearn/metrics/_classification.py:1272: UndefinedMetricWarning: Recall is ill-defined and being set to 0.0 in labels with no true samples. Use `zero_division` parameter to control this behavior.\n",
            "  _warn_prf(average, modifier, msg_start, len(result))\n"
          ],
          "name": "stderr"
        },
        {
          "output_type": "stream",
          "text": [
            "Recall: \t [0.         0.00328811 0.08141293 0.39573277 0.70597528 0.\n",
            " 0.        ]\n",
            "F1 score: \t [0.         0.00655467 0.11795944 0.1753227  0.2411602  0.\n",
            " 0.        ]\n",
            "RMSE at length 2: 2.971048912896579 MAE at length 2: 2.9511439343077\n",
            "RMSE at length 3: 1.8909583586668128 MAE at length 3: 1.8278940568475452\n",
            "RMSE at length 4: 1.2660995497798266 MAE at length 4: 1.1401082538664433\n",
            "RMSE at length 5: 0.8869601965920432 MAE at length 5: 0.6648485681400422\n",
            "RMSE at length 6: 0.5462677326053539 MAE at length 6: 0.2954859602701315\n"
          ],
          "name": "stdout"
        },
        {
          "output_type": "display_data",
          "data": {
            "image/png": "[encoded data removed]",
            "text/plain": [
              "<Figure size 432x288 with 1 Axes>"
            ]
          },
          "metadata": {
            "tags": []
          }
        },
        {
          "output_type": "stream",
          "text": [
            "Embedding method:  node2vec Binary operator: concat\n",
            "(154907, 128)\n",
            "Embedded training set size: 1769053\n",
            "Embedded test set size: 604236\n",
            "Train test split summary: \n",
            " Train X shape: (1769053, 256) Train y shape: (1769053,) \n",
            " Test X shape: (604236, 256) Test y shape: (604236,)\n",
            "\n",
            "\n",
            "\n",
            "\n",
            "Epoch 1/15\n",
            "38699/38699 - 67s - loss: 0.3607 - mae: 0.4578 - val_loss: 0.1841 - val_mae: 0.3274\n",
            "Epoch 2/15\n",
            "38699/38699 - 58s - loss: 0.2678 - mae: 0.3950 - val_loss: 0.1619 - val_mae: 0.2839\n",
            "Epoch 3/15\n",
            "38699/38699 - 67s - loss: 0.2441 - mae: 0.3757 - val_loss: 0.1363 - val_mae: 0.2599\n",
            "Epoch 4/15\n",
            "38699/38699 - 58s - loss: 0.2316 - mae: 0.3654 - val_loss: 0.1323 - val_mae: 0.2581\n",
            "Epoch 5/15\n",
            "38699/38699 - 58s - loss: 0.2224 - mae: 0.3573 - val_loss: 0.1333 - val_mae: 0.2484\n",
            "Epoch 6/15\n",
            "38699/38699 - 67s - loss: 0.2141 - mae: 0.3502 - val_loss: 0.2186 - val_mae: 0.3622\n",
            "Epoch 7/15\n",
            "38699/38699 - 67s - loss: 0.2095 - mae: 0.3460 - val_loss: 0.1397 - val_mae: 0.2814\n",
            "Epoch 8/15\n",
            "38699/38699 - 58s - loss: 0.2041 - mae: 0.3408 - val_loss: 0.1242 - val_mae: 0.2567\n",
            "Epoch 9/15\n",
            "38699/38699 - 66s - loss: 0.2012 - mae: 0.3380 - val_loss: 0.1208 - val_mae: 0.2580\n",
            "Epoch 10/15\n",
            "38699/38699 - 58s - loss: 0.1981 - mae: 0.3351 - val_loss: 0.1156 - val_mae: 0.2224\n",
            "Epoch 11/15\n",
            "38699/38699 - 67s - loss: 0.1961 - mae: 0.3332 - val_loss: 0.1171 - val_mae: 0.2267\n",
            "Epoch 12/15\n",
            "38699/38699 - 58s - loss: 0.1952 - mae: 0.3323 - val_loss: 0.1128 - val_mae: 0.2279\n",
            "Epoch 13/15\n",
            "38699/38699 - 58s - loss: 0.1937 - mae: 0.3311 - val_loss: 0.1129 - val_mae: 0.2217\n",
            "Epoch 14/15\n",
            "38699/38699 - 58s - loss: 0.1925 - mae: 0.3299 - val_loss: 0.1289 - val_mae: 0.2422\n",
            "Epoch 15/15\n",
            "38699/38699 - 67s - loss: 0.1917 - mae: 0.3292 - val_loss: 0.1144 - val_mae: 0.2470\n",
            "\n",
            "\n",
            "RMSE: 3.3580881617254246 MAE: 3.243583632885164 \n",
            "Summary: Train size: 1769053 Test size: 604236\n",
            "Accuracy: 0.000243\n",
            "Paths: \t\t [2 3 4 5 6]\n"
          ],
          "name": "stdout"
        },
        {
          "output_type": "stream",
          "text": [
            "/usr/local/lib/python3.7/dist-packages/sklearn/metrics/_classification.py:1272: UndefinedMetricWarning: Precision is ill-defined and being set to 0.0 in labels with no predicted samples. Use `zero_division` parameter to control this behavior.\n",
            "  _warn_prf(average, modifier, msg_start, len(result))\n"
          ],
          "name": "stderr"
        },
        {
          "output_type": "stream",
          "text": [
            "Precision: \t [0.00000000e+00 0.00000000e+00 6.29629630e-01 2.73058252e-02\n",
            " 3.12537918e-04 0.00000000e+00 0.00000000e+00 0.00000000e+00\n",
            " 0.00000000e+00 0.00000000e+00]\n"
          ],
          "name": "stdout"
        },
        {
          "output_type": "stream",
          "text": [
            "/usr/local/lib/python3.7/dist-packages/sklearn/metrics/_classification.py:1272: UndefinedMetricWarning: Recall is ill-defined and being set to 0.0 in labels with no true samples. Use `zero_division` parameter to control this behavior.\n",
            "  _warn_prf(average, modifier, msg_start, len(result))\n"
          ],
          "name": "stderr"
        },
        {
          "output_type": "stream",
          "text": [
            "Recall: \t [0.         0.         0.00011126 0.00038652 0.0033569  0.\n",
            " 0.         0.         0.         0.        ]\n",
            "F1 score: \t [0.         0.         0.00022249 0.00076226 0.00057184 0.\n",
            " 0.         0.         0.         0.        ]\n",
            "RMSE at length 2: 4.212549281694512 MAE at length 2: 4.191822031709962\n",
            "RMSE at length 3: 3.423716493128921 MAE at length 3: 3.382532299741602\n",
            "RMSE at length 4: 2.9124117220992525 MAE at length 4: 2.8366832690835073\n",
            "RMSE at length 5: 2.6622699003833477 MAE at length 5: 2.566765731562763\n",
            "RMSE at length 6: 2.2595845907615755 MAE at length 6: 2.1603412187512343\n"
          ],
          "name": "stdout"
        },
        {
          "output_type": "display_data",
          "data": {
            "image/png": "[encoded data removed]",
            "text/plain": [
              "<Figure size 432x288 with 1 Axes>"
            ]
          },
          "metadata": {
            "tags": []
          }
        },
        {
          "output_type": "stream",
          "text": [
            "Embedding method:  node2vec Binary operator: conv\n",
            "(154907, 128)\n",
            "Embedded training set size: 1769053\n",
            "Embedded test set size: 604236\n",
            "Train test split summary: \n",
            " Train X shape: (1769053, 2, 128, 1) Train y shape: (1769053,) \n",
            " Test X shape: (604236, 2, 128, 1) Test y shape: (604236,)\n",
            "\n",
            "\n",
            "\n",
            "\n",
            "Epoch 1/15\n",
            "38699/38699 - 84s - loss: 0.3613 - mae: 0.4660 - val_loss: 0.2003 - val_mae: 0.3410\n",
            "Epoch 2/15\n",
            "38699/38699 - 86s - loss: 0.2936 - mae: 0.4178 - val_loss: 0.1752 - val_mae: 0.2856\n",
            "Epoch 3/15\n",
            "38699/38699 - 87s - loss: 0.2796 - mae: 0.4064 - val_loss: 0.2312 - val_mae: 0.3854\n",
            "Epoch 4/15\n",
            "38699/38699 - 87s - loss: 0.2715 - mae: 0.3996 - val_loss: 0.4293 - val_mae: 0.4838\n",
            "Epoch 5/15\n",
            "38699/38699 - 82s - loss: 0.2669 - mae: 0.3954 - val_loss: 0.2132 - val_mae: 0.3734\n",
            "Epoch 6/15\n",
            "38699/38699 - 86s - loss: 0.2628 - mae: 0.3919 - val_loss: 0.1483 - val_mae: 0.2971\n",
            "Epoch 7/15\n",
            "38699/38699 - 86s - loss: 0.2602 - mae: 0.3897 - val_loss: 1.2355 - val_mae: 0.8638\n",
            "Epoch 8/15\n",
            "38699/38699 - 82s - loss: 0.2584 - mae: 0.3879 - val_loss: 0.6390 - val_mae: 0.6000\n",
            "Epoch 9/15\n",
            "38699/38699 - 81s - loss: 0.2556 - mae: 0.3856 - val_loss: 0.1278 - val_mae: 0.2583\n",
            "Epoch 10/15\n",
            "38699/38699 - 86s - loss: 0.2545 - mae: 0.3845 - val_loss: 0.1837 - val_mae: 0.3387\n",
            "Epoch 11/15\n",
            "38699/38699 - 83s - loss: 0.2528 - mae: 0.3832 - val_loss: 0.3253 - val_mae: 0.4539\n",
            "Epoch 12/15\n",
            "38699/38699 - 87s - loss: 0.2510 - mae: 0.3817 - val_loss: 0.1336 - val_mae: 0.2453\n",
            "Epoch 13/15\n",
            "38699/38699 - 86s - loss: 0.2513 - mae: 0.3818 - val_loss: 0.5513 - val_mae: 0.6483\n",
            "Epoch 14/15\n",
            "38699/38699 - 81s - loss: 0.2493 - mae: 0.3803 - val_loss: 0.1666 - val_mae: 0.2965\n",
            "Epoch 15/15\n",
            "38699/38699 - 88s - loss: 0.2494 - mae: 0.3801 - val_loss: 1.4903 - val_mae: 1.0285\n",
            "\n",
            "\n",
            "RMSE: 3.945252335039022 MAE: 3.764335458330851 \n",
            "Summary: Train size: 1769053 Test size: 604236\n",
            "Accuracy: 0.001124\n",
            "Paths: \t\t [2 3 4 5 6]\n",
            "Precision: \t [0.         0.         0.59683794 0.02975534 0.00265339 0.\n",
            " 0.         0.         0.         0.         0.        ]\n"
          ],
          "name": "stdout"
        },
        {
          "output_type": "stream",
          "text": [
            "/usr/local/lib/python3.7/dist-packages/sklearn/metrics/_classification.py:1272: UndefinedMetricWarning: Recall is ill-defined and being set to 0.0 in labels with no true samples. Use `zero_division` parameter to control this behavior.\n",
            "  _warn_prf(average, modifier, msg_start, len(result))\n"
          ],
          "name": "stderr"
        },
        {
          "output_type": "stream",
          "text": [
            "Recall: \t [0.         0.         0.00098829 0.00231915 0.01018917 0.\n",
            " 0.         0.         0.         0.         0.        ]\n",
            "F1 score: \t [0.         0.         0.00197331 0.00430293 0.00421035 0.\n",
            " 0.         0.         0.         0.         0.        ]\n",
            "RMSE at length 2: 5.128195082684885 MAE at length 2: 5.08274156897175\n",
            "RMSE at length 3: 3.85173540538222 MAE at length 3: 3.7780620155038758\n",
            "RMSE at length 4: 3.3393954479807206 MAE at length 4: 3.2138046587123417\n",
            "RMSE at length 5: 3.125530997129603 MAE at length 5: 2.969198261496968\n",
            "RMSE at length 6: 2.7641804383067243 MAE at length 6: 2.592788594447297\n"
          ],
          "name": "stdout"
        },
        {
          "output_type": "display_data",
          "data": {
            "image/png": "[encoded data removed]",
            "text/plain": [
              "<Figure size 432x288 with 1 Axes>"
            ]
          },
          "metadata": {
            "tags": []
          }
        },
        {
          "output_type": "stream",
          "text": [
            "### EMBEDDING RUN harp_node2vec ###\n",
            "#### TRAIN TEST LOOP\n",
            "EMBEDDING VECTORS SHAPE: (154907, 128)\n",
            "Embedding method:  harp_node2vec Binary operator: avg\n",
            "(154907, 128)\n",
            "Embedded training set size: 1769053\n",
            "Embedded test set size: 604236\n",
            "Train test split summary: \n",
            " Train X shape: (1769053, 128) Train y shape: (1769053,) \n",
            " Test X shape: (604236, 128) Test y shape: (604236,)\n",
            "\n",
            "\n",
            "\n",
            "\n",
            "Epoch 1/15\n",
            "38699/38699 - 52s - loss: 0.4843 - mae: 0.5429 - val_loss: 0.3014 - val_mae: 0.4041\n",
            "Epoch 2/15\n",
            "38699/38699 - 61s - loss: 0.3688 - mae: 0.4712 - val_loss: 0.2427 - val_mae: 0.3610\n",
            "Epoch 3/15\n",
            "38699/38699 - 52s - loss: 0.3392 - mae: 0.4494 - val_loss: 0.2451 - val_mae: 0.3461\n",
            "Epoch 4/15\n",
            "38699/38699 - 62s - loss: 0.3226 - mae: 0.4363 - val_loss: 0.2100 - val_mae: 0.3427\n",
            "Epoch 5/15\n",
            "38699/38699 - 61s - loss: 0.3111 - mae: 0.4270 - val_loss: 0.1974 - val_mae: 0.3178\n",
            "Epoch 6/15\n",
            "38699/38699 - 62s - loss: 0.3039 - mae: 0.4206 - val_loss: 0.1866 - val_mae: 0.3203\n",
            "Epoch 7/15\n",
            "38699/38699 - 52s - loss: 0.2975 - mae: 0.4154 - val_loss: 0.1854 - val_mae: 0.3009\n",
            "Epoch 8/15\n",
            "38699/38699 - 62s - loss: 0.2928 - mae: 0.4113 - val_loss: 0.1850 - val_mae: 0.3132\n",
            "Epoch 9/15\n",
            "38699/38699 - 61s - loss: 0.2896 - mae: 0.4086 - val_loss: 0.2030 - val_mae: 0.3060\n",
            "Epoch 10/15\n",
            "38699/38699 - 62s - loss: 0.2868 - mae: 0.4064 - val_loss: 0.1688 - val_mae: 0.2951\n",
            "Epoch 11/15\n",
            "38699/38699 - 62s - loss: 0.2839 - mae: 0.4039 - val_loss: 0.1781 - val_mae: 0.2955\n",
            "Epoch 12/15\n",
            "38699/38699 - 62s - loss: 0.2820 - mae: 0.4021 - val_loss: 0.1638 - val_mae: 0.2873\n",
            "Epoch 13/15\n",
            "38699/38699 - 62s - loss: 0.2801 - mae: 0.4008 - val_loss: 0.1605 - val_mae: 0.2889\n",
            "Epoch 14/15\n",
            "38699/38699 - 53s - loss: 0.2776 - mae: 0.3989 - val_loss: 0.1640 - val_mae: 0.2721\n",
            "Epoch 15/15\n",
            "38699/38699 - 62s - loss: 0.2762 - mae: 0.3976 - val_loss: 0.1662 - val_mae: 0.2859\n",
            "\n",
            "\n",
            "RMSE: 0.9054530501563891 MAE: 0.6960459158342105 \n",
            "Summary: Train size: 1769053 Test size: 604236\n",
            "Accuracy: 0.365457\n",
            "Paths: \t\t [2 3 4 5 6]\n"
          ],
          "name": "stdout"
        },
        {
          "output_type": "stream",
          "text": [
            "/usr/local/lib/python3.7/dist-packages/sklearn/metrics/_classification.py:1272: UndefinedMetricWarning: Precision is ill-defined and being set to 0.0 in labels with no predicted samples. Use `zero_division` parameter to control this behavior.\n",
            "  _warn_prf(average, modifier, msg_start, len(result))\n"
          ],
          "name": "stderr"
        },
        {
          "output_type": "stream",
          "text": [
            "Precision: \t [0.         0.3348916  0.37952562 0.4985341  0.52785146]\n",
            "Recall: \t [0.         0.64372093 0.66248879 0.16796654 0.01571818]\n",
            "F1 score: \t [0.         0.44057628 0.48258731 0.25127372 0.03052733]\n",
            "RMSE at length 2: 1.1068164287875537 MAE at length 2: 1.075014202344678\n",
            "RMSE at length 3: 0.609215405954834 MAE at length 3: 0.36123385012919895\n",
            "RMSE at length 4: 0.5809740469151553 MAE at length 4: 0.33751775324139827\n",
            "RMSE at length 5: 1.052058405407605 MAE at length 5: 0.9236312724399168\n",
            "RMSE at length 6: 1.6355345738580582 MAE at length 6: 1.5415267959401286\n"
          ],
          "name": "stdout"
        },
        {
          "output_type": "display_data",
          "data": {
            "image/png": "[encoded data removed]",
            "text/plain": [
              "<Figure size 432x288 with 1 Axes>"
            ]
          },
          "metadata": {
            "tags": []
          }
        },
        {
          "output_type": "stream",
          "text": [
            "Embedding method:  harp_node2vec Binary operator: concat\n",
            "(154907, 128)\n",
            "Embedded training set size: 1769053\n",
            "Embedded test set size: 604236\n",
            "Train test split summary: \n",
            " Train X shape: (1769053, 256) Train y shape: (1769053,) \n",
            " Test X shape: (604236, 256) Test y shape: (604236,)\n",
            "\n",
            "\n",
            "\n",
            "\n",
            "Epoch 1/15\n",
            "38699/38699 - 59s - loss: 0.4347 - mae: 0.5067 - val_loss: 0.2514 - val_mae: 0.3600\n",
            "Epoch 2/15\n",
            "38699/38699 - 58s - loss: 0.3196 - mae: 0.4300 - val_loss: 0.2141 - val_mae: 0.3277\n",
            "Epoch 3/15\n",
            "38699/38699 - 67s - loss: 0.2906 - mae: 0.4063 - val_loss: 0.1952 - val_mae: 0.3095\n",
            "Epoch 4/15\n",
            "38699/38699 - 67s - loss: 0.2753 - mae: 0.3932 - val_loss: 0.2729 - val_mae: 0.3438\n",
            "Epoch 5/15\n",
            "38699/38699 - 58s - loss: 0.2648 - mae: 0.3845 - val_loss: 0.1822 - val_mae: 0.2879\n",
            "Epoch 6/15\n",
            "38699/38699 - 66s - loss: 0.2581 - mae: 0.3789 - val_loss: 0.5679 - val_mae: 0.6522\n",
            "Epoch 7/15\n",
            "38699/38699 - 58s - loss: 0.2588 - mae: 0.3798 - val_loss: 0.1698 - val_mae: 0.2855\n",
            "Epoch 8/15\n",
            "38699/38699 - 58s - loss: 0.2511 - mae: 0.3727 - val_loss: 0.1726 - val_mae: 0.2851\n",
            "Epoch 9/15\n",
            "38699/38699 - 67s - loss: 0.2474 - mae: 0.3697 - val_loss: 0.2311 - val_mae: 0.3411\n",
            "Epoch 10/15\n",
            "38699/38699 - 67s - loss: 0.2444 - mae: 0.3671 - val_loss: 0.1566 - val_mae: 0.2770\n",
            "Epoch 11/15\n",
            "38699/38699 - 66s - loss: 0.2422 - mae: 0.3652 - val_loss: 0.1567 - val_mae: 0.2879\n",
            "Epoch 12/15\n",
            "38699/38699 - 66s - loss: 0.2401 - mae: 0.3636 - val_loss: 0.1579 - val_mae: 0.2886\n",
            "Epoch 13/15\n",
            "38699/38699 - 66s - loss: 0.2387 - mae: 0.3622 - val_loss: 0.1515 - val_mae: 0.2693\n",
            "Epoch 14/15\n",
            "38699/38699 - 58s - loss: 0.2375 - mae: 0.3612 - val_loss: 0.1541 - val_mae: 0.2741\n",
            "Epoch 15/15\n",
            "38699/38699 - 58s - loss: 0.2360 - mae: 0.3600 - val_loss: 0.1582 - val_mae: 0.2982\n",
            "\n",
            "\n",
            "RMSE: 1.3246372109591456 MAE: 1.052633408138542 \n",
            "Summary: Train size: 1769053 Test size: 604236\n",
            "Accuracy: 0.275111\n",
            "Paths: \t\t [2 3 4 5 6]\n"
          ],
          "name": "stdout"
        },
        {
          "output_type": "stream",
          "text": [
            "/usr/local/lib/python3.7/dist-packages/sklearn/metrics/_classification.py:1272: UndefinedMetricWarning: Precision is ill-defined and being set to 0.0 in labels with no predicted samples. Use `zero_division` parameter to control this behavior.\n",
            "  _warn_prf(average, modifier, msg_start, len(result))\n"
          ],
          "name": "stderr"
        },
        {
          "output_type": "stream",
          "text": [
            "Precision: \t [0.         0.2777413  0.24447527 0.35408477 0.39274924]\n",
            "Recall: \t [0.         0.02459302 0.68169829 0.49826493 0.01026816]\n",
            "F1 score: \t [0.         0.04518507 0.35988584 0.41398037 0.02001309]\n",
            "RMSE at length 2: 2.0845579041454245 MAE at length 2: 2.0548016836234053\n",
            "RMSE at length 3: 1.2301997694960836 MAE at length 3: 1.154735142118863\n",
            "RMSE at length 4: 0.5645824239143297 MAE at length 4: 0.31845224459876037\n",
            "RMSE at length 5: 0.7219706986540397 MAE at length 5: 0.5082372747418873\n",
            "RMSE at length 6: 1.3100245984261125 MAE at length 6: 1.2307175861932782\n"
          ],
          "name": "stdout"
        },
        {
          "output_type": "display_data",
          "data": {
            "image/png": "[encoded data removed]",
            "text/plain": [
              "<Figure size 432x288 with 1 Axes>"
            ]
          },
          "metadata": {
            "tags": []
          }
        },
        {
          "output_type": "stream",
          "text": [
            "Embedding method:  harp_node2vec Binary operator: conv\n",
            "(154907, 128)\n",
            "Embedded training set size: 1769053\n",
            "Embedded test set size: 604236\n",
            "Train test split summary: \n",
            " Train X shape: (1769053, 2, 128, 1) Train y shape: (1769053,) \n",
            " Test X shape: (604236, 2, 128, 1) Test y shape: (604236,)\n",
            "\n",
            "\n",
            "\n",
            "\n",
            "Epoch 1/15\n",
            "38699/38699 - 85s - loss: 0.4086 - mae: 0.4945 - val_loss: 0.2193 - val_mae: 0.3331\n",
            "Epoch 2/15\n",
            "38699/38699 - 85s - loss: 0.3265 - mae: 0.4402 - val_loss: 0.2153 - val_mae: 0.3229\n",
            "Epoch 3/15\n",
            "38699/38699 - 89s - loss: 0.3103 - mae: 0.4275 - val_loss: 0.1818 - val_mae: 0.3111\n",
            "Epoch 4/15\n",
            "38699/38699 - 85s - loss: 0.3016 - mae: 0.4202 - val_loss: 0.1969 - val_mae: 0.2941\n",
            "Epoch 5/15\n",
            "38699/38699 - 86s - loss: 0.2967 - mae: 0.4161 - val_loss: 0.1864 - val_mae: 0.3081\n",
            "Epoch 6/15\n",
            "38699/38699 - 90s - loss: 0.2931 - mae: 0.4130 - val_loss: 0.1996 - val_mae: 0.3289\n",
            "Epoch 7/15\n",
            "38699/38699 - 86s - loss: 0.2896 - mae: 0.4099 - val_loss: 1.3208 - val_mae: 0.8748\n",
            "Epoch 8/15\n",
            "38699/38699 - 89s - loss: 0.2870 - mae: 0.4076 - val_loss: 0.1801 - val_mae: 0.3485\n",
            "Epoch 9/15\n",
            "38699/38699 - 85s - loss: 0.2852 - mae: 0.4061 - val_loss: 0.1917 - val_mae: 0.3708\n",
            "Epoch 10/15\n",
            "38699/38699 - 92s - loss: 0.2833 - mae: 0.4045 - val_loss: 0.1784 - val_mae: 0.2842\n",
            "Epoch 11/15\n",
            "38699/38699 - 91s - loss: 0.2815 - mae: 0.4027 - val_loss: 0.1767 - val_mae: 0.2908\n",
            "Epoch 12/15\n",
            "38699/38699 - 89s - loss: 0.2807 - mae: 0.4020 - val_loss: 0.8035 - val_mae: 0.6800\n",
            "Epoch 13/15\n",
            "38699/38699 - 91s - loss: 0.2803 - mae: 0.4016 - val_loss: 0.1745 - val_mae: 0.3160\n",
            "Epoch 14/15\n",
            "38699/38699 - 94s - loss: 0.2788 - mae: 0.4003 - val_loss: 0.1477 - val_mae: 0.2770\n",
            "Epoch 15/15\n",
            "38699/38699 - 91s - loss: 0.2785 - mae: 0.4000 - val_loss: 0.1591 - val_mae: 0.2856\n",
            "\n",
            "\n",
            "RMSE: 1.0540334130204363 MAE: 0.8172071839479939 \n",
            "Summary: Train size: 1769053 Test size: 604236\n",
            "Accuracy: 0.329677\n",
            "Paths: \t\t [2 3 4 5 6]\n",
            "Precision: \t [0.         0.22487567 0.29956027 0.47964588 0.6       ]\n",
            "Recall: \t [0.00000000e+00 1.65032300e-01 6.68804691e-01 6.13810105e-01\n",
            " 3.55436199e-04]\n",
            "F1 score: \t [0.         0.19036158 0.41378473 0.53849719 0.00071045]\n",
            "RMSE at length 2: 1.5617011721360055 MAE at length 2: 1.479632546609513\n",
            "RMSE at length 3: 1.0240360690918233 MAE at length 3: 0.9061950904392765\n",
            "RMSE at length 4: 0.5755127657004242 MAE at length 4: 0.3312018535365766\n",
            "RMSE at length 5: 0.6363967104328614 MAE at length 5: 0.39246018793698784\n",
            "RMSE at length 6: 1.1487282689974332 MAE at length 6: 1.1062359306504483\n"
          ],
          "name": "stdout"
        },
        {
          "output_type": "display_data",
          "data": {
            "image/png": "[encoded data removed]",
            "text/plain": [
              "<Figure size 432x288 with 1 Axes>"
            ]
          },
          "metadata": {
            "tags": []
          }
        },
        {
          "output_type": "stream",
          "text": [
            "### EMBEDDING RUN harp_line ###\n",
            "#### TRAIN TEST LOOP\n",
            "EMBEDDING VECTORS SHAPE: (154907, 128)\n",
            "Embedding method:  harp_line Binary operator: avg\n",
            "(154907, 128)\n",
            "Embedded training set size: 1769053\n",
            "Embedded test set size: 604236\n",
            "Train test split summary: \n",
            " Train X shape: (1769053, 128) Train y shape: (1769053,) \n",
            " Test X shape: (604236, 128) Test y shape: (604236,)\n",
            "\n",
            "\n",
            "\n",
            "\n",
            "Epoch 1/15\n",
            "38699/38699 - 64s - loss: 0.5234 - mae: 0.5582 - val_loss: 0.3112 - val_mae: 0.4211\n",
            "Epoch 2/15\n",
            "38699/38699 - 62s - loss: 0.4012 - mae: 0.4833 - val_loss: 0.2735 - val_mae: 0.3765\n",
            "Epoch 3/15\n",
            "38699/38699 - 53s - loss: 0.3740 - mae: 0.4623 - val_loss: 0.2870 - val_mae: 0.3753\n",
            "Epoch 4/15\n",
            "38699/38699 - 53s - loss: 0.3592 - mae: 0.4508 - val_loss: 0.2542 - val_mae: 0.3424\n",
            "Epoch 5/15\n",
            "38699/38699 - 52s - loss: 0.3481 - mae: 0.4415 - val_loss: 0.2348 - val_mae: 0.3364\n",
            "Epoch 6/15\n",
            "38699/38699 - 53s - loss: 0.3420 - mae: 0.4363 - val_loss: 0.2448 - val_mae: 0.3379\n",
            "Epoch 7/15\n",
            "38699/38699 - 62s - loss: 0.3358 - mae: 0.4314 - val_loss: 0.2245 - val_mae: 0.3277\n",
            "Epoch 8/15\n",
            "38699/38699 - 53s - loss: 0.3318 - mae: 0.4284 - val_loss: 0.2369 - val_mae: 0.3273\n",
            "Epoch 9/15\n",
            "38699/38699 - 62s - loss: 0.3280 - mae: 0.4254 - val_loss: 0.2793 - val_mae: 0.3386\n",
            "Epoch 10/15\n",
            "38699/38699 - 52s - loss: 0.3253 - mae: 0.4232 - val_loss: 0.2694 - val_mae: 0.3401\n",
            "Epoch 11/15\n",
            "38699/38699 - 61s - loss: 0.3223 - mae: 0.4207 - val_loss: 0.2170 - val_mae: 0.3021\n",
            "Epoch 12/15\n",
            "38699/38699 - 52s - loss: 0.3201 - mae: 0.4192 - val_loss: 0.2097 - val_mae: 0.3082\n",
            "Epoch 13/15\n",
            "38699/38699 - 61s - loss: 0.3173 - mae: 0.4169 - val_loss: 0.2078 - val_mae: 0.3003\n",
            "Epoch 14/15\n",
            "38699/38699 - 61s - loss: 0.3155 - mae: 0.4154 - val_loss: 0.2076 - val_mae: 0.2946\n",
            "Epoch 15/15\n",
            "38699/38699 - 62s - loss: 0.3138 - mae: 0.4142 - val_loss: 0.2073 - val_mae: 0.3079\n",
            "\n",
            "\n",
            "RMSE: 0.9869798952926351 MAE: 0.7498295368035006 \n",
            "Summary: Train size: 1769053 Test size: 604236\n",
            "Accuracy: 0.355533\n",
            "Paths: \t\t [2 3 4 5 6]\n"
          ],
          "name": "stdout"
        },
        {
          "output_type": "stream",
          "text": [
            "/usr/local/lib/python3.7/dist-packages/sklearn/metrics/_classification.py:1272: UndefinedMetricWarning: Precision is ill-defined and being set to 0.0 in labels with no predicted samples. Use `zero_division` parameter to control this behavior.\n",
            "  _warn_prf(average, modifier, msg_start, len(result))\n"
          ],
          "name": "stderr"
        },
        {
          "output_type": "stream",
          "text": [
            "Precision: \t [0.         0.33182934 0.35103129 0.61500705 0.28125   ]\n",
            "Recall: \t [0.00000000e+00 8.66563307e-01 3.68030421e-01 2.09865833e-01\n",
            " 7.10872398e-04]\n",
            "F1 score: \t [0.         0.47989468 0.35932992 0.31294268 0.00141816]\n",
            "RMSE at length 2: 1.098867219898714 MAE at length 2: 1.06779682900377\n",
            "RMSE at length 3: 0.3764463923388157 MAE at length 3: 0.1361950904392765\n",
            "RMSE at length 4: 0.7950021910195737 MAE at length 4: 0.6319892138831984\n",
            "RMSE at length 5: 1.266908624710571 MAE at length 5: 1.0617752658432256\n",
            "RMSE at length 6: 1.9490367173117815 MAE at length 6: 1.8328660005529007\n"
          ],
          "name": "stdout"
        },
        {
          "output_type": "display_data",
          "data": {
            "image/png": "[encoded data removed]",
            "text/plain": [
              "<Figure size 432x288 with 1 Axes>"
            ]
          },
          "metadata": {
            "tags": []
          }
        },
        {
          "output_type": "stream",
          "text": [
            "Embedding method:  harp_line Binary operator: concat\n",
            "(154907, 128)\n",
            "Embedded training set size: 1769053\n",
            "Embedded test set size: 604236\n",
            "Train test split summary: \n",
            " Train X shape: (1769053, 256) Train y shape: (1769053,) \n",
            " Test X shape: (604236, 256) Test y shape: (604236,)\n",
            "\n",
            "\n",
            "\n",
            "\n",
            "Epoch 1/15\n",
            "38699/38699 - 67s - loss: 0.4595 - mae: 0.5159 - val_loss: 0.2939 - val_mae: 0.3798\n",
            "Epoch 2/15\n",
            "38699/38699 - 67s - loss: 0.3471 - mae: 0.4438 - val_loss: 0.2496 - val_mae: 0.3508\n",
            "Epoch 3/15\n",
            "38699/38699 - 67s - loss: 0.3204 - mae: 0.4232 - val_loss: 0.2307 - val_mae: 0.3254\n",
            "Epoch 4/15\n",
            "38699/38699 - 58s - loss: 0.3055 - mae: 0.4108 - val_loss: 0.2286 - val_mae: 0.3086\n",
            "Epoch 5/15\n",
            "38699/38699 - 68s - loss: 0.2952 - mae: 0.4019 - val_loss: 0.2088 - val_mae: 0.3120\n",
            "Epoch 6/15\n",
            "38699/38699 - 67s - loss: 0.2875 - mae: 0.3954 - val_loss: 0.2152 - val_mae: 0.3030\n",
            "Epoch 7/15\n",
            "38699/38699 - 58s - loss: 0.2820 - mae: 0.3906 - val_loss: 0.2043 - val_mae: 0.3000\n",
            "Epoch 8/15\n",
            "38699/38699 - 67s - loss: 0.2778 - mae: 0.3873 - val_loss: 0.2035 - val_mae: 0.3197\n",
            "Epoch 9/15\n",
            "38699/38699 - 67s - loss: 0.2744 - mae: 0.3847 - val_loss: 0.2029 - val_mae: 0.2922\n",
            "Epoch 10/15\n",
            "38699/38699 - 67s - loss: 0.2715 - mae: 0.3821 - val_loss: 0.1996 - val_mae: 0.2966\n",
            "Epoch 11/15\n",
            "38699/38699 - 67s - loss: 0.2689 - mae: 0.3797 - val_loss: 0.1922 - val_mae: 0.2842\n",
            "Epoch 12/15\n",
            "38699/38699 - 67s - loss: 0.2666 - mae: 0.3780 - val_loss: 0.1877 - val_mae: 0.2811\n",
            "Epoch 13/15\n",
            "38699/38699 - 58s - loss: 0.2645 - mae: 0.3763 - val_loss: 0.1894 - val_mae: 0.2720\n",
            "Epoch 14/15\n",
            "38699/38699 - 58s - loss: 0.2631 - mae: 0.3753 - val_loss: 0.1885 - val_mae: 0.2923\n",
            "Epoch 15/15\n",
            "38699/38699 - 58s - loss: 0.2614 - mae: 0.3738 - val_loss: 0.1855 - val_mae: 0.2760\n",
            "\n",
            "\n",
            "RMSE: 1.2752731093842185 MAE: 1.0104098398638943 \n",
            "Summary: Train size: 1769053 Test size: 604236\n",
            "Accuracy: 0.257524\n",
            "Paths: \t\t [2 3 4 5 6]\n"
          ],
          "name": "stdout"
        },
        {
          "output_type": "stream",
          "text": [
            "/usr/local/lib/python3.7/dist-packages/sklearn/metrics/_classification.py:1272: UndefinedMetricWarning: Precision is ill-defined and being set to 0.0 in labels with no predicted samples. Use `zero_division` parameter to control this behavior.\n",
            "  _warn_prf(average, modifier, msg_start, len(result))\n"
          ],
          "name": "stderr"
        },
        {
          "output_type": "stream",
          "text": [
            "Precision: \t [0.         0.25872692 0.13211071 0.55555556 0.        ]\n",
            "Recall: \t [0.00000000e+00 9.99916021e-01 5.09198961e-03 3.43577674e-04\n",
            " 0.00000000e+00]\n",
            "F1 score: \t [0.         0.41108591 0.00980602 0.00068673 0.        ]\n",
            "RMSE at length 2: 1.0000193666461183 MAE at length 2: 1.0000129112224345\n",
            "RMSE at length 3: 0.009164023579485961 MAE at length 3: 8.397932816537468e-05\n",
            "RMSE at length 4: 0.997460598377089 MAE at length 4: 0.9949145553672057\n",
            "RMSE at length 5: 1.9739786496998184 MAE at length 5: 1.965290065451547\n",
            "RMSE at length 6: 2.9616241433454755 MAE at length 6: 2.953753801192686\n"
          ],
          "name": "stdout"
        },
        {
          "output_type": "display_data",
          "data": {
            "image/png": "[encoded data removed]",
            "text/plain": [
              "<Figure size 432x288 with 1 Axes>"
            ]
          },
          "metadata": {
            "tags": []
          }
        },
        {
          "output_type": "stream",
          "text": [
            "Embedding method:  harp_line Binary operator: conv\n",
            "(154907, 128)\n",
            "Embedded training set size: 1769053\n",
            "Embedded test set size: 604236\n",
            "Train test split summary: \n",
            " Train X shape: (1769053, 2, 128, 1) Train y shape: (1769053,) \n",
            " Test X shape: (604236, 2, 128, 1) Test y shape: (604236,)\n",
            "\n",
            "\n",
            "\n",
            "\n",
            "Epoch 1/15\n",
            "38699/38699 - 82s - loss: 0.4458 - mae: 0.5162 - val_loss: 0.2742 - val_mae: 0.3604\n",
            "Epoch 2/15\n",
            "38699/38699 - 86s - loss: 0.3750 - mae: 0.4692 - val_loss: 0.2522 - val_mae: 0.3418\n",
            "Epoch 3/15\n",
            "38699/38699 - 85s - loss: 0.3596 - mae: 0.4575 - val_loss: 0.2435 - val_mae: 0.3733\n",
            "Epoch 4/15\n",
            "38699/38699 - 86s - loss: 0.3501 - mae: 0.4500 - val_loss: 0.2334 - val_mae: 0.3393\n",
            "Epoch 5/15\n",
            "38699/38699 - 81s - loss: 0.3445 - mae: 0.4454 - val_loss: 0.4314 - val_mae: 0.5412\n",
            "Epoch 6/15\n",
            "38699/38699 - 86s - loss: 0.3405 - mae: 0.4423 - val_loss: 0.2224 - val_mae: 0.3492\n",
            "Epoch 7/15\n",
            "38699/38699 - 85s - loss: 0.3369 - mae: 0.4392 - val_loss: 1.3820 - val_mae: 1.0310\n",
            "Epoch 8/15\n",
            "38699/38699 - 85s - loss: 0.3348 - mae: 0.4375 - val_loss: 0.2184 - val_mae: 0.3067\n",
            "Epoch 9/15\n",
            "38699/38699 - 86s - loss: 0.3320 - mae: 0.4354 - val_loss: 0.4167 - val_mae: 0.5286\n",
            "Epoch 10/15\n",
            "38699/38699 - 85s - loss: 0.3307 - mae: 0.4344 - val_loss: 0.3069 - val_mae: 0.3793\n",
            "Epoch 11/15\n",
            "38699/38699 - 85s - loss: 0.3290 - mae: 0.4329 - val_loss: 0.2184 - val_mae: 0.3352\n",
            "Epoch 12/15\n",
            "38699/38699 - 80s - loss: 0.3277 - mae: 0.4316 - val_loss: 0.2271 - val_mae: 0.3371\n",
            "Epoch 13/15\n",
            "38699/38699 - 85s - loss: 0.3277 - mae: 0.4315 - val_loss: 0.2218 - val_mae: 0.3552\n",
            "Epoch 14/15\n",
            "38699/38699 - 81s - loss: 0.3262 - mae: 0.4305 - val_loss: 0.2161 - val_mae: 0.3093\n",
            "Epoch 15/15\n",
            "38699/38699 - 81s - loss: 0.3253 - mae: 0.4297 - val_loss: 1.0584 - val_mae: 0.8640\n",
            "\n",
            "\n",
            "RMSE: 1.0847279042255964 MAE: 0.8534297857128672 \n",
            "Summary: Train size: 1769053 Test size: 604236\n",
            "Accuracy: 0.302726\n",
            "Paths: \t\t [2 3 4 5 6]\n"
          ],
          "name": "stdout"
        },
        {
          "output_type": "stream",
          "text": [
            "/usr/local/lib/python3.7/dist-packages/sklearn/metrics/_classification.py:1272: UndefinedMetricWarning: Precision is ill-defined and being set to 0.0 in labels with no predicted samples. Use `zero_division` parameter to control this behavior.\n",
            "  _warn_prf(average, modifier, msg_start, len(result))\n"
          ],
          "name": "stderr"
        },
        {
          "output_type": "stream",
          "text": [
            "Precision: \t [0.         0.34310025 0.29055221 0.30826173 0.         0.        ]\n"
          ],
          "name": "stdout"
        },
        {
          "output_type": "stream",
          "text": [
            "/usr/local/lib/python3.7/dist-packages/sklearn/metrics/_classification.py:1272: UndefinedMetricWarning: Recall is ill-defined and being set to 0.0 in labels with no true samples. Use `zero_division` parameter to control this behavior.\n",
            "  _warn_prf(average, modifier, msg_start, len(result))\n"
          ],
          "name": "stderr"
        },
        {
          "output_type": "stream",
          "text": [
            "Recall: \t [0.         0.06455611 0.45957364 0.66612125 0.         0.        ]\n",
            "F1 score: \t [0.         0.10866612 0.35602063 0.42147634 0.         0.        ]\n",
            "RMSE at length 2: 1.312813904984044 MAE at length 2: 1.198122708258018\n",
            "RMSE at length 3: 0.7351369645101158 MAE at length 3: 0.5404263565891473\n",
            "RMSE at length 4: 0.6480418528669553 MAE at length 4: 0.3622315742625451\n",
            "RMSE at length 5: 1.2500811675902876 MAE at length 5: 1.184131865111405\n",
            "RMSE at length 6: 2.1240227613309677 MAE at length 6: 2.101694245882864\n"
          ],
          "name": "stdout"
        },
        {
          "output_type": "display_data",
          "data": {
            "image/png": "[encoded data removed]",
            "text/plain": [
              "<Figure size 432x288 with 1 Axes>"
            ]
          },
          "metadata": {
            "tags": [],
            "needs_background": "light"
          }
        }
      ]
    },
    {
      "cell_type": "code",
      "metadata": {
        "colab": {
          "base_uri": "https://localhost:8080/",
          "height": 1000
        },
        "id": "iZ1QBWcstEGB",
        "outputId": "b2d31c5f-b56c-496e-b1ff-c3a86a23e7cd"
      },
      "source": [
        "landmark_techniques = [\"random\"]\n",
        "embedding_techniques = [\"node2vec\", \"harp_node2vec\", \"harp_line\"]\n",
        "for landmark_technique in landmark_techniques:\n",
        "  print(\"### LANDMARK RUN\", landmark_technique, \"###\")\n",
        "  train_list1, train_list2, y_train = load_training_data(dataset, landmark_technique)\n",
        "  test_list1, test_list2, y_test = load_testing_data(dataset, landmark_technique)\n",
        "  for embedding_technique in embedding_techniques:\n",
        "    print(\"### EMBEDDING RUN\", embedding_technique, \"###\")\n",
        "    train_test_loop(emb_method = embedding_technique, epochs= 15,dataset= dataset) # No embeddings params set as default values are the optimised ones"
      ],
      "execution_count": null,
      "outputs": [
        {
          "output_type": "stream",
          "text": [
            "### LANDMARK RUN random ###\n",
            "Number of training pairs: 1792196\n",
            "Path Lengths in train set:  [2 3 4 5 6]  Size of each length:  [464697 463845 450141 318817  94696]\n",
            "Number of testing pairs: 621081\n",
            "Path Lengths in test set:  [2 3 4 5 6]  Size of each length:  [154905 154841 152718 131027  27590]\n",
            "### EMBEDDING RUN node2vec ###\n",
            "#### TRAIN TEST LOOP\n",
            "EMBEDDING VECTORS SHAPE: (154907, 128)\n",
            "Embedding method:  node2vec Binary operator: avg\n",
            "(154907, 128)\n",
            "Embedded training set size: 1792196\n",
            "Embedded test set size: 621081\n",
            "Train test split summary: \n",
            " Train X shape: (1792196, 128) Train y shape: (1792196,) \n",
            " Test X shape: (621081, 128) Test y shape: (621081,)\n",
            "\n",
            "\n",
            "\n",
            "\n",
            "Epoch 1/15\n",
            "39205/39205 - 54s - loss: 0.6791 - mae: 0.6443 - val_loss: 0.4259 - val_mae: 0.4826\n",
            "Epoch 2/15\n",
            "39205/39205 - 53s - loss: 0.5070 - mae: 0.5486 - val_loss: 0.3746 - val_mae: 0.4390\n",
            "Epoch 3/15\n",
            "39205/39205 - 63s - loss: 0.4685 - mae: 0.5252 - val_loss: 0.3424 - val_mae: 0.4222\n",
            "Epoch 4/15\n",
            "39205/39205 - 53s - loss: 0.4488 - mae: 0.5127 - val_loss: 0.3356 - val_mae: 0.4065\n",
            "Epoch 5/15\n",
            "39205/39205 - 64s - loss: 0.4368 - mae: 0.5053 - val_loss: 0.4250 - val_mae: 0.5336\n",
            "Epoch 6/15\n",
            "39205/39205 - 83s - loss: 0.4264 - mae: 0.4986 - val_loss: 0.3113 - val_mae: 0.4140\n",
            "Epoch 7/15\n",
            "39205/39205 - 79s - loss: 0.4167 - mae: 0.4926 - val_loss: 0.3037 - val_mae: 0.4056\n",
            "Epoch 8/15\n",
            "39205/39205 - 81s - loss: 0.4107 - mae: 0.4886 - val_loss: 0.2976 - val_mae: 0.3987\n",
            "Epoch 9/15\n",
            "39205/39205 - 82s - loss: 0.4055 - mae: 0.4855 - val_loss: 0.2920 - val_mae: 0.3906\n",
            "Epoch 10/15\n",
            "39205/39205 - 83s - loss: 0.4021 - mae: 0.4831 - val_loss: 0.2890 - val_mae: 0.3885\n",
            "Epoch 11/15\n",
            "39205/39205 - 83s - loss: 0.3976 - mae: 0.4800 - val_loss: 0.2884 - val_mae: 0.3864\n",
            "Epoch 12/15\n",
            "39205/39205 - 82s - loss: 0.3956 - mae: 0.4787 - val_loss: 0.2830 - val_mae: 0.3824\n",
            "Epoch 13/15\n",
            "39205/39205 - 80s - loss: 0.3923 - mae: 0.4764 - val_loss: 0.2816 - val_mae: 0.3761\n",
            "Epoch 14/15\n",
            "39205/39205 - 82s - loss: 0.3909 - mae: 0.4754 - val_loss: 0.2788 - val_mae: 0.3675\n",
            "Epoch 15/15\n",
            "39205/39205 - 77s - loss: 0.3882 - mae: 0.4737 - val_loss: 0.2742 - val_mae: 0.3619\n",
            "\n",
            "\n",
            "RMSE: 1.2685522786668353 MAE: 1.0090680603657172 \n",
            "Summary: Train size: 1792196 Test size: 621081\n",
            "Accuracy: 0.279403\n",
            "Paths: \t\t [2 3 4 5 6]\n"
          ],
          "name": "stdout"
        },
        {
          "output_type": "stream",
          "text": [
            "/usr/local/lib/python3.7/dist-packages/sklearn/metrics/_classification.py:1272: UndefinedMetricWarning: Precision is ill-defined and being set to 0.0 in labels with no predicted samples. Use `zero_division` parameter to control this behavior.\n",
            "  _warn_prf(average, modifier, msg_start, len(result))\n"
          ],
          "name": "stderr"
        },
        {
          "output_type": "stream",
          "text": [
            "Precision: \t [0.         0.33378079 0.22775162 0.47975748 0.19277108]\n",
            "Recall: \t [0.         0.54759398 0.51652065 0.07488533 0.00173976]\n",
            "F1 score: \t [0.         0.41475286 0.31611661 0.12954931 0.0034484 ]\n",
            "RMSE at length 2: 1.7291020052481325 MAE at length 2: 1.6632645815177045\n",
            "RMSE at length 3: 0.7031983319329149 MAE at length 3: 0.4664333090073043\n",
            "RMSE at length 4: 0.6962161512361894 MAE at length 4: 0.4838918791498055\n",
            "RMSE at length 5: 1.373581317833361 MAE at length 5: 1.245651659581613\n",
            "RMSE at length 6: 2.2406909435067472 MAE at length 6: 2.1648785791953604\n"
          ],
          "name": "stdout"
        },
        {
          "output_type": "display_data",
          "data": {
            "image/png": "[encoded data removed]",
            "text/plain": [
              "<Figure size 432x288 with 1 Axes>"
            ]
          },
          "metadata": {
            "tags": [],
            "needs_background": "light"
          }
        },
        {
          "output_type": "stream",
          "text": [
            "Embedding method:  node2vec Binary operator: concat\n",
            "(154907, 128)\n",
            "Embedded training set size: 1792196\n",
            "Embedded test set size: 621081\n",
            "Train test split summary: \n",
            " Train X shape: (1792196, 256) Train y shape: (1792196,) \n",
            " Test X shape: (621081, 256) Test y shape: (621081,)\n",
            "\n",
            "\n",
            "\n",
            "\n",
            "Epoch 1/15\n",
            "39205/39205 - 83s - loss: 0.6089 - mae: 0.6009 - val_loss: 0.3895 - val_mae: 0.4440\n",
            "Epoch 2/15\n",
            "39205/39205 - 88s - loss: 0.4534 - mae: 0.5112 - val_loss: 0.3302 - val_mae: 0.4107\n",
            "Epoch 3/15\n",
            "39205/39205 - 84s - loss: 0.4207 - mae: 0.4900 - val_loss: 0.3280 - val_mae: 0.4249\n",
            "Epoch 4/15\n",
            "39205/39205 - 82s - loss: 0.4020 - mae: 0.4779 - val_loss: 0.3052 - val_mae: 0.4123\n",
            "Epoch 5/15\n",
            "39205/39205 - 83s - loss: 0.3898 - mae: 0.4697 - val_loss: 0.2940 - val_mae: 0.3772\n",
            "Epoch 6/15\n",
            "39205/39205 - 82s - loss: 0.3808 - mae: 0.4635 - val_loss: 0.2819 - val_mae: 0.3534\n",
            "Epoch 7/15\n",
            "39205/39205 - 78s - loss: 0.3733 - mae: 0.4583 - val_loss: 0.2817 - val_mae: 0.3620\n",
            "Epoch 8/15\n",
            "39205/39205 - 75s - loss: 0.3682 - mae: 0.4547 - val_loss: 0.2715 - val_mae: 0.3696\n",
            "Epoch 9/15\n",
            "39205/39205 - 82s - loss: 0.3628 - mae: 0.4510 - val_loss: 0.2690 - val_mae: 0.3616\n",
            "Epoch 10/15\n",
            "39205/39205 - 87s - loss: 0.3591 - mae: 0.4484 - val_loss: 0.2589 - val_mae: 0.3371\n",
            "Epoch 11/15\n",
            "39205/39205 - 83s - loss: 0.3560 - mae: 0.4460 - val_loss: 0.2625 - val_mae: 0.3471\n",
            "Epoch 12/15\n",
            "39205/39205 - 82s - loss: 0.3532 - mae: 0.4436 - val_loss: 0.2651 - val_mae: 0.3350\n",
            "Epoch 13/15\n",
            "39205/39205 - 87s - loss: 0.3500 - mae: 0.4415 - val_loss: 0.2502 - val_mae: 0.3446\n",
            "Epoch 14/15\n",
            "39205/39205 - 86s - loss: 0.3465 - mae: 0.4389 - val_loss: 0.2563 - val_mae: 0.3559\n",
            "Epoch 15/15\n",
            "39205/39205 - 87s - loss: 0.3453 - mae: 0.4377 - val_loss: 0.2461 - val_mae: 0.3339\n",
            "\n",
            "\n",
            "RMSE: 1.160450604985709 MAE: 0.902207602551036 \n",
            "Summary: Train size: 1792196 Test size: 621081\n",
            "Accuracy: 0.304923\n",
            "Paths: \t\t [2 3 4 5 6]\n"
          ],
          "name": "stdout"
        },
        {
          "output_type": "stream",
          "text": [
            "/usr/local/lib/python3.7/dist-packages/sklearn/metrics/_classification.py:1272: UndefinedMetricWarning: Precision is ill-defined and being set to 0.0 in labels with no predicted samples. Use `zero_division` parameter to control this behavior.\n",
            "  _warn_prf(average, modifier, msg_start, len(result))\n"
          ],
          "name": "stderr"
        },
        {
          "output_type": "stream",
          "text": [
            "Precision: \t [0.         0.30972477 0.27613447 0.46471329 0.27625899 0.        ]\n"
          ],
          "name": "stdout"
        },
        {
          "output_type": "stream",
          "text": [
            "/usr/local/lib/python3.7/dist-packages/sklearn/metrics/_classification.py:1272: UndefinedMetricWarning: Recall is ill-defined and being set to 0.0 in labels with no true samples. Use `zero_division` parameter to control this behavior.\n",
            "  _warn_prf(average, modifier, msg_start, len(result))\n"
          ],
          "name": "stderr"
        },
        {
          "output_type": "stream",
          "text": [
            "Recall: \t [0.         0.68111805 0.44427638 0.12116587 0.00695904 0.        ]\n",
            "F1 score: \t [0.         0.42581755 0.34058349 0.19221503 0.0135761  0.        ]\n",
            "RMSE at length 2: 1.4129120019876344 MAE at length 2: 1.323391756237694\n",
            "RMSE at length 3: 0.6387279079501224 MAE at length 3: 0.3484542207813176\n",
            "RMSE at length 4: 0.7466009707999263 MAE at length 4: 0.5562867507431999\n",
            "RMSE at length 5: 1.369338093448098 MAE at length 5: 1.2109183603379456\n",
            "RMSE at length 6: 2.196829571616122 MAE at length 6: 2.0939108372598767\n"
          ],
          "name": "stdout"
        },
        {
          "output_type": "display_data",
          "data": {
            "image/png": "[encoded data removed]",
            "text/plain": [
              "<Figure size 432x288 with 1 Axes>"
            ]
          },
          "metadata": {
            "tags": [],
            "needs_background": "light"
          }
        },
        {
          "output_type": "stream",
          "text": [
            "Embedding method:  node2vec Binary operator: conv\n",
            "(154907, 128)\n",
            "Embedded training set size: 1792196\n",
            "Embedded test set size: 621081\n",
            "Train test split summary: \n",
            " Train X shape: (1792196, 2, 128, 1) Train y shape: (1792196,) \n",
            " Test X shape: (621081, 2, 128, 1) Test y shape: (621081,)\n",
            "\n",
            "\n",
            "\n",
            "\n",
            "Epoch 1/15\n",
            "39205/39205 - 119s - loss: 0.5561 - mae: 0.5780 - val_loss: 0.3721 - val_mae: 0.4637\n",
            "Epoch 2/15\n",
            "39205/39205 - 120s - loss: 0.4457 - mae: 0.5121 - val_loss: 0.3160 - val_mae: 0.4075\n",
            "Epoch 3/15\n",
            "39205/39205 - 140s - loss: 0.4232 - mae: 0.4976 - val_loss: 0.3008 - val_mae: 0.3997\n",
            "Epoch 4/15\n",
            "39205/39205 - 121s - loss: 0.4107 - mae: 0.4892 - val_loss: 0.2882 - val_mae: 0.3765\n",
            "Epoch 5/15\n",
            "39205/39205 - 120s - loss: 0.4013 - mae: 0.4823 - val_loss: 0.2806 - val_mae: 0.3604\n",
            "Epoch 6/15\n",
            "39205/39205 - 140s - loss: 0.3947 - mae: 0.4777 - val_loss: 0.2922 - val_mae: 0.4037\n",
            "Epoch 7/15\n",
            "39205/39205 - 139s - loss: 0.3899 - mae: 0.4743 - val_loss: 0.2783 - val_mae: 0.3731\n",
            "Epoch 8/15\n",
            "39205/39205 - 140s - loss: 0.3867 - mae: 0.4722 - val_loss: 0.2827 - val_mae: 0.3966\n",
            "Epoch 9/15\n",
            "39205/39205 - 121s - loss: 0.3839 - mae: 0.4699 - val_loss: 0.3121 - val_mae: 0.3943\n",
            "Epoch 10/15\n",
            "39205/39205 - 138s - loss: 0.3807 - mae: 0.4679 - val_loss: 0.2651 - val_mae: 0.3568\n",
            "Epoch 11/15\n",
            "39205/39205 - 141s - loss: 0.3801 - mae: 0.4674 - val_loss: 0.2643 - val_mae: 0.3628\n",
            "Epoch 12/15\n",
            "39205/39205 - 141s - loss: 0.3787 - mae: 0.4664 - val_loss: 0.2662 - val_mae: 0.3553\n",
            "Epoch 13/15\n",
            "39205/39205 - 122s - loss: 0.3769 - mae: 0.4652 - val_loss: 0.2882 - val_mae: 0.3728\n",
            "Epoch 14/15\n",
            "39205/39205 - 119s - loss: 0.3756 - mae: 0.4640 - val_loss: 0.2645 - val_mae: 0.3570\n",
            "Epoch 15/15\n",
            "39205/39205 - 139s - loss: 0.3744 - mae: 0.4631 - val_loss: 0.2800 - val_mae: 0.3846\n",
            "\n",
            "\n",
            "RMSE: 1.3231106905920587 MAE: 1.0391559233014696 \n",
            "Summary: Train size: 1792196 Test size: 621081\n",
            "Accuracy: 0.294440\n",
            "Paths: \t\t [2 3 4 5 6]\n",
            "Precision: \t [0.         0.72551717 0.24124742 0.39266412 0.20892019]\n",
            "Recall: \t [0.         0.08856182 0.70126639 0.47297885 0.00322581]\n",
            "F1 score: \t [0.         0.15785475 0.35899464 0.42909567 0.00635351]\n",
            "RMSE at length 2: 2.1075776937499926 MAE at length 2: 2.0883767470385073\n",
            "RMSE at length 3: 1.1860007317627699 MAE at length 3: 1.0764913685651734\n",
            "RMSE at length 4: 0.5471759417977299 MAE at length 4: 0.29895624615304023\n",
            "RMSE at length 5: 0.7384080170183891 MAE at length 5: 0.5330962320743053\n",
            "RMSE at length 6: 1.5259385907761367 MAE at length 6: 1.4392533526640088\n"
          ],
          "name": "stdout"
        },
        {
          "output_type": "display_data",
          "data": {
            "image/png": "[encoded data removed]",
            "text/plain": [
              "<Figure size 432x288 with 1 Axes>"
            ]
          },
          "metadata": {
            "tags": [],
            "needs_background": "light"
          }
        },
        {
          "output_type": "stream",
          "text": [
            "### EMBEDDING RUN harp_node2vec ###\n",
            "#### TRAIN TEST LOOP\n",
            "EMBEDDING VECTORS SHAPE: (154907, 128)\n",
            "Embedding method:  harp_node2vec Binary operator: avg\n",
            "(154907, 128)\n",
            "Embedded training set size: 1792196\n",
            "Embedded test set size: 621081\n",
            "Train test split summary: \n",
            " Train X shape: (1792196, 128) Train y shape: (1792196,) \n",
            " Test X shape: (621081, 128) Test y shape: (621081,)\n",
            "\n",
            "\n",
            "\n",
            "\n",
            "Epoch 1/15\n",
            "39205/39205 - 81s - loss: 0.6930 - mae: 0.6525 - val_loss: 0.4512 - val_mae: 0.5013\n",
            "Epoch 2/15\n",
            "39205/39205 - 81s - loss: 0.5269 - mae: 0.5613 - val_loss: 0.3843 - val_mae: 0.4481\n",
            "Epoch 3/15\n",
            "39205/39205 - 75s - loss: 0.4859 - mae: 0.5364 - val_loss: 0.3651 - val_mae: 0.4591\n",
            "Epoch 4/15\n",
            "39205/39205 - 79s - loss: 0.4642 - mae: 0.5234 - val_loss: 0.3369 - val_mae: 0.4195\n",
            "Epoch 5/15\n",
            "39205/39205 - 79s - loss: 0.4499 - mae: 0.5143 - val_loss: 0.3369 - val_mae: 0.4132\n",
            "Epoch 6/15\n",
            "39205/39205 - 74s - loss: 0.4406 - mae: 0.5085 - val_loss: 0.3132 - val_mae: 0.4028\n",
            "Epoch 7/15\n",
            "39205/39205 - 75s - loss: 0.4333 - mae: 0.5042 - val_loss: 0.3213 - val_mae: 0.3992\n",
            "Epoch 8/15\n",
            "39205/39205 - 75s - loss: 0.4277 - mae: 0.5006 - val_loss: 0.3144 - val_mae: 0.4051\n",
            "Epoch 9/15\n",
            "39205/39205 - 79s - loss: 0.4235 - mae: 0.4979 - val_loss: 0.3221 - val_mae: 0.4293\n",
            "Epoch 10/15\n",
            "39205/39205 - 79s - loss: 0.4198 - mae: 0.4955 - val_loss: 0.3004 - val_mae: 0.3899\n",
            "Epoch 11/15\n",
            "39205/39205 - 79s - loss: 0.4167 - mae: 0.4933 - val_loss: 0.2955 - val_mae: 0.3800\n",
            "Epoch 12/15\n",
            "39205/39205 - 76s - loss: 0.4132 - mae: 0.4909 - val_loss: 0.2940 - val_mae: 0.3808\n",
            "Epoch 13/15\n",
            "39205/39205 - 80s - loss: 0.4109 - mae: 0.4894 - val_loss: 0.2979 - val_mae: 0.3685\n",
            "Epoch 14/15\n",
            "39205/39205 - 74s - loss: 0.4082 - mae: 0.4873 - val_loss: 0.2928 - val_mae: 0.3953\n",
            "Epoch 15/15\n",
            "39205/39205 - 75s - loss: 0.4064 - mae: 0.4862 - val_loss: 0.2957 - val_mae: 0.3928\n",
            "\n",
            "\n",
            "RMSE: 1.7009264572158722 MAE: 1.3323946473970383 \n",
            "Summary: Train size: 1792196 Test size: 621081\n",
            "Accuracy: 0.242020\n",
            "Paths: \t\t [2 3 4 5 6]\n"
          ],
          "name": "stdout"
        },
        {
          "output_type": "stream",
          "text": [
            "/usr/local/lib/python3.7/dist-packages/sklearn/metrics/_classification.py:1272: UndefinedMetricWarning: Precision is ill-defined and being set to 0.0 in labels with no predicted samples. Use `zero_division` parameter to control this behavior.\n",
            "  _warn_prf(average, modifier, msg_start, len(result))\n"
          ],
          "name": "stderr"
        },
        {
          "output_type": "stream",
          "text": [
            "Precision: \t [0.         0.42743731 0.2793773  0.22389956 0.13068722 0.        ]\n"
          ],
          "name": "stdout"
        },
        {
          "output_type": "stream",
          "text": [
            "/usr/local/lib/python3.7/dist-packages/sklearn/metrics/_classification.py:1272: UndefinedMetricWarning: Recall is ill-defined and being set to 0.0 in labels with no true samples. Use `zero_division` parameter to control this behavior.\n",
            "  _warn_prf(average, modifier, msg_start, len(result))\n"
          ],
          "name": "stderr"
        },
        {
          "output_type": "stream",
          "text": [
            "Recall: \t [0.         0.03720591 0.37697586 0.63344196 0.14440014 0.        ]\n",
            "F1 score: \t [0.         0.06845335 0.32092021 0.33085386 0.13720189 0.        ]\n",
            "RMSE at length 2: 2.814658196830477 MAE at length 2: 2.7715696717342886\n",
            "RMSE at length 3: 1.5209437008707491 MAE at length 3: 1.3987445185706628\n",
            "RMSE at length 4: 0.8854861379159678 MAE at length 4: 0.6765279796749565\n",
            "RMSE at length 5: 0.6228690384839052 MAE at length 5: 0.3736939714715288\n",
            "RMSE at length 6: 1.2176960282651117 MAE at length 6: 1.0630663283798478\n"
          ],
          "name": "stdout"
        },
        {
          "output_type": "display_data",
          "data": {
            "image/png": "[encoded data removed]",
            "text/plain": [
              "<Figure size 432x288 with 1 Axes>"
            ]
          },
          "metadata": {
            "tags": [],
            "needs_background": "light"
          }
        },
        {
          "output_type": "stream",
          "text": [
            "Embedding method:  harp_node2vec Binary operator: concat\n",
            "(154907, 128)\n",
            "Embedded training set size: 1792196\n",
            "Embedded test set size: 621081\n",
            "Train test split summary: \n",
            " Train X shape: (1792196, 256) Train y shape: (1792196,) \n",
            " Test X shape: (621081, 256) Test y shape: (621081,)\n",
            "\n",
            "\n",
            "\n",
            "\n",
            "Epoch 1/15\n",
            "39205/39205 - 86s - loss: 0.6213 - mae: 0.6091 - val_loss: 0.4066 - val_mae: 0.4611\n",
            "Epoch 2/15\n",
            "39205/39205 - 81s - loss: 0.4692 - mae: 0.5235 - val_loss: 0.3538 - val_mae: 0.4157\n",
            "Epoch 3/15\n",
            "39205/39205 - 84s - loss: 0.4340 - mae: 0.5010 - val_loss: 0.3295 - val_mae: 0.4118\n",
            "Epoch 4/15\n",
            "39205/39205 - 89s - loss: 0.4143 - mae: 0.4882 - val_loss: 0.3113 - val_mae: 0.3848\n",
            "Epoch 5/15\n",
            "39205/39205 - 81s - loss: 0.4010 - mae: 0.4796 - val_loss: 0.3014 - val_mae: 0.3820\n",
            "Epoch 6/15\n",
            "39205/39205 - 81s - loss: 0.3920 - mae: 0.4734 - val_loss: 0.2945 - val_mae: 0.3682\n",
            "Epoch 7/15\n",
            "39205/39205 - 82s - loss: 0.3847 - mae: 0.4684 - val_loss: 0.2892 - val_mae: 0.3809\n",
            "Epoch 8/15\n",
            "39205/39205 - 87s - loss: 0.3789 - mae: 0.4645 - val_loss: 0.2935 - val_mae: 0.3767\n",
            "Epoch 9/15\n",
            "39205/39205 - 85s - loss: 0.3741 - mae: 0.4613 - val_loss: 0.2812 - val_mae: 0.3636\n",
            "Epoch 10/15\n",
            "39205/39205 - 86s - loss: 0.3698 - mae: 0.4583 - val_loss: 0.2793 - val_mae: 0.3551\n",
            "Epoch 11/15\n",
            "39205/39205 - 88s - loss: 0.3650 - mae: 0.4544 - val_loss: 0.2698 - val_mae: 0.3444\n",
            "Epoch 12/15\n",
            "39205/39205 - 81s - loss: 0.3617 - mae: 0.4517 - val_loss: 0.2682 - val_mae: 0.3569\n",
            "Epoch 13/15\n",
            "39205/39205 - 87s - loss: 0.3602 - mae: 0.4506 - val_loss: 0.2615 - val_mae: 0.3366\n",
            "Epoch 14/15\n",
            "39205/39205 - 81s - loss: 0.3581 - mae: 0.4490 - val_loss: 0.2630 - val_mae: 0.3438\n",
            "Epoch 15/15\n",
            "39205/39205 - 89s - loss: 0.3556 - mae: 0.4473 - val_loss: 0.2596 - val_mae: 0.3538\n",
            "\n",
            "\n",
            "RMSE: 1.4702218189427787 MAE: 1.1129450103931693 \n",
            "Summary: Train size: 1792196 Test size: 621081\n",
            "Accuracy: 0.312658\n",
            "Paths: \t\t [2 3 4 5 6]\n"
          ],
          "name": "stdout"
        },
        {
          "output_type": "stream",
          "text": [
            "/usr/local/lib/python3.7/dist-packages/sklearn/metrics/_classification.py:1272: UndefinedMetricWarning: Precision is ill-defined and being set to 0.0 in labels with no predicted samples. Use `zero_division` parameter to control this behavior.\n",
            "  _warn_prf(average, modifier, msg_start, len(result))\n"
          ],
          "name": "stderr"
        },
        {
          "output_type": "stream",
          "text": [
            "Precision: \t [0.         0.73196517 0.26127309 0.31275364 0.17913683 0.        ]\n"
          ],
          "name": "stdout"
        },
        {
          "output_type": "stream",
          "text": [
            "/usr/local/lib/python3.7/dist-packages/sklearn/metrics/_classification.py:1272: UndefinedMetricWarning: Recall is ill-defined and being set to 0.0 in labels with no true samples. Use `zero_division` parameter to control this behavior.\n",
            "  _warn_prf(average, modifier, msg_start, len(result))\n"
          ],
          "name": "stderr"
        },
        {
          "output_type": "stream",
          "text": [
            "Recall: \t [0.         0.19003365 0.5148509  0.6428675  0.06890178 0.        ]\n",
            "F1 score: \t [0.         0.30173143 0.3466371  0.4207926  0.09952359 0.        ]\n",
            "RMSE at length 2: 2.4325204369253552 MAE at length 2: 2.3792969884768085\n",
            "RMSE at length 3: 1.275968619421294 MAE at length 3: 1.0791069548762924\n",
            "RMSE at length 4: 0.7168463567397277 MAE at length 4: 0.4947222986157493\n",
            "RMSE at length 5: 0.6246554149419775 MAE at length 5: 0.36815312874445727\n",
            "RMSE at length 6: 1.2657560807526484 MAE at length 6: 1.151975353388909\n"
          ],
          "name": "stdout"
        },
        {
          "output_type": "display_data",
          "data": {
            "image/png": "[encoded data removed]",
            "text/plain": [
              "<Figure size 432x288 with 1 Axes>"
            ]
          },
          "metadata": {
            "tags": [],
            "needs_background": "light"
          }
        },
        {
          "output_type": "stream",
          "text": [
            "Embedding method:  harp_node2vec Binary operator: conv\n",
            "(154907, 128)\n",
            "Embedded training set size: 1792196\n",
            "Embedded test set size: 621081\n",
            "Train test split summary: \n",
            " Train X shape: (1792196, 2, 128, 1) Train y shape: (1792196,) \n",
            " Test X shape: (621081, 2, 128, 1) Test y shape: (621081,)\n",
            "\n",
            "\n",
            "\n",
            "\n",
            "Epoch 1/15\n",
            "39205/39205 - 140s - loss: 0.5596 - mae: 0.5797 - val_loss: 0.3556 - val_mae: 0.4259\n",
            "Epoch 2/15\n",
            "39205/39205 - 140s - loss: 0.4517 - mae: 0.5152 - val_loss: 0.3264 - val_mae: 0.3978\n",
            "Epoch 3/15\n",
            "39205/39205 - 124s - loss: 0.4307 - mae: 0.5018 - val_loss: 0.3092 - val_mae: 0.4047\n",
            "Epoch 4/15\n",
            "39205/39205 - 169s - loss: 0.4201 - mae: 0.4949 - val_loss: 0.2988 - val_mae: 0.4000\n",
            "Epoch 5/15\n",
            "39205/39205 - 203s - loss: 0.4122 - mae: 0.4899 - val_loss: 0.2869 - val_mae: 0.3874\n",
            "Epoch 6/15\n",
            "39205/39205 - 184s - loss: 0.4072 - mae: 0.4863 - val_loss: 0.2826 - val_mae: 0.3774\n",
            "Epoch 7/15\n",
            "39205/39205 - 176s - loss: 0.4031 - mae: 0.4837 - val_loss: 0.2971 - val_mae: 0.3855\n",
            "Epoch 8/15\n",
            "39205/39205 - 173s - loss: 0.3998 - mae: 0.4815 - val_loss: 0.2762 - val_mae: 0.3515\n",
            "Epoch 9/15\n",
            "39205/39205 - 170s - loss: 0.3976 - mae: 0.4799 - val_loss: 0.2873 - val_mae: 0.4021\n",
            "Epoch 10/15\n",
            "39205/39205 - 181s - loss: 0.3950 - mae: 0.4783 - val_loss: 0.2845 - val_mae: 0.3790\n",
            "Epoch 11/15\n",
            "39205/39205 - 129s - loss: 0.3939 - mae: 0.4774 - val_loss: 0.2730 - val_mae: 0.3772\n",
            "Epoch 12/15\n",
            "39205/39205 - 86s - loss: 0.3918 - mae: 0.4759 - val_loss: 0.3313 - val_mae: 0.3898\n",
            "Epoch 13/15\n",
            "39205/39205 - 82s - loss: 0.3901 - mae: 0.4747 - val_loss: 0.2721 - val_mae: 0.3758\n",
            "Epoch 14/15\n",
            "39205/39205 - 82s - loss: 0.3886 - mae: 0.4737 - val_loss: 0.2797 - val_mae: 0.3955\n",
            "Epoch 15/15\n",
            "39205/39205 - 86s - loss: 0.3885 - mae: 0.4737 - val_loss: 0.2694 - val_mae: 0.3551\n",
            "\n",
            "\n",
            "RMSE: 1.3625971044358949 MAE: 1.037289822100499 \n",
            "Summary: Train size: 1792196 Test size: 621081\n",
            "Accuracy: 0.320161\n",
            "Paths: \t\t [2 3 4 5 6]\n",
            "Precision: \t [0.         0.72618871 0.25376632 0.37708373 0.22712551 0.        ]\n"
          ],
          "name": "stdout"
        },
        {
          "output_type": "stream",
          "text": [
            "/usr/local/lib/python3.7/dist-packages/sklearn/metrics/_classification.py:1272: UndefinedMetricWarning: Recall is ill-defined and being set to 0.0 in labels with no true samples. Use `zero_division` parameter to control this behavior.\n",
            "  _warn_prf(average, modifier, msg_start, len(result))\n"
          ],
          "name": "stderr"
        },
        {
          "output_type": "stream",
          "text": [
            "Recall: \t [0.         0.15850453 0.63035137 0.59129798 0.02033345 0.        ]\n",
            "F1 score: \t [0.         0.26021268 0.36185668 0.46049785 0.03732535 0.        ]\n",
            "RMSE at length 2: 2.2383374658193405 MAE at length 2: 2.1977728285077953\n",
            "RMSE at length 3: 1.167464063415864 MAE at length 3: 1.015028319372776\n",
            "RMSE at length 4: 0.6128894848230049 MAE at length 4: 0.37163923047708847\n",
            "RMSE at length 5: 0.6613725597821937 MAE at length 5: 0.4182725697756951\n",
            "RMSE at length 6: 1.3638792934402324 MAE at length 6: 1.270967741935484\n"
          ],
          "name": "stdout"
        },
        {
          "output_type": "display_data",
          "data": {
            "image/png": "[encoded data removed]",
            "text/plain": [
              "<Figure size 432x288 with 1 Axes>"
            ]
          },
          "metadata": {
            "tags": [],
            "needs_background": "light"
          }
        },
        {
          "output_type": "stream",
          "text": [
            "### EMBEDDING RUN harp_line ###\n",
            "#### TRAIN TEST LOOP\n",
            "EMBEDDING VECTORS SHAPE: (154907, 128)\n",
            "Embedding method:  harp_line Binary operator: avg\n",
            "(154907, 128)\n",
            "Embedded training set size: 1792196\n",
            "Embedded test set size: 621081\n",
            "Train test split summary: \n",
            " Train X shape: (1792196, 128) Train y shape: (1792196,) \n",
            " Test X shape: (621081, 128) Test y shape: (621081,)\n",
            "\n",
            "\n",
            "\n",
            "\n",
            "Epoch 1/15\n",
            "39205/39205 - 63s - loss: 0.7329 - mae: 0.6761 - val_loss: 0.5100 - val_mae: 0.5449\n",
            "Epoch 2/15\n",
            "39205/39205 - 63s - loss: 0.5807 - mae: 0.5949 - val_loss: 0.4560 - val_mae: 0.4977\n",
            "Epoch 3/15\n",
            "39205/39205 - 62s - loss: 0.5447 - mae: 0.5733 - val_loss: 0.4388 - val_mae: 0.5110\n",
            "Epoch 4/15\n",
            "39205/39205 - 53s - loss: 0.5241 - mae: 0.5605 - val_loss: 0.4109 - val_mae: 0.4667\n",
            "Epoch 5/15\n",
            "39205/39205 - 53s - loss: 0.5105 - mae: 0.5522 - val_loss: 0.4191 - val_mae: 0.4908\n",
            "Epoch 6/15\n",
            "39205/39205 - 53s - loss: 0.5000 - mae: 0.5456 - val_loss: 0.3979 - val_mae: 0.4690\n",
            "Epoch 7/15\n",
            "39205/39205 - 62s - loss: 0.4923 - mae: 0.5408 - val_loss: 0.3839 - val_mae: 0.4466\n",
            "Epoch 8/15\n",
            "39205/39205 - 62s - loss: 0.4858 - mae: 0.5365 - val_loss: 0.3851 - val_mae: 0.4386\n",
            "Epoch 9/15\n",
            "39205/39205 - 53s - loss: 0.4813 - mae: 0.5334 - val_loss: 0.3789 - val_mae: 0.4504\n",
            "Epoch 10/15\n",
            "39205/39205 - 62s - loss: 0.4770 - mae: 0.5308 - val_loss: 0.4274 - val_mae: 0.5214\n",
            "Epoch 11/15\n",
            "39205/39205 - 62s - loss: 0.4739 - mae: 0.5289 - val_loss: 0.3759 - val_mae: 0.4460\n",
            "Epoch 12/15\n",
            "39205/39205 - 53s - loss: 0.4699 - mae: 0.5263 - val_loss: 0.3667 - val_mae: 0.4338\n",
            "Epoch 13/15\n",
            "39205/39205 - 62s - loss: 0.4683 - mae: 0.5255 - val_loss: 0.3665 - val_mae: 0.4355\n",
            "Epoch 14/15\n",
            "39205/39205 - 62s - loss: 0.4650 - mae: 0.5232 - val_loss: 0.3600 - val_mae: 0.4279\n",
            "Epoch 15/15\n",
            "39205/39205 - 62s - loss: 0.4627 - mae: 0.5217 - val_loss: 0.3635 - val_mae: 0.4511\n",
            "\n",
            "\n",
            "RMSE: 1.7384989857771376 MAE: 1.3805445666507268 \n",
            "Summary: Train size: 1792196 Test size: 621081\n",
            "Accuracy: 0.224159\n",
            "Paths: \t\t [2 3 4 5 6]\n"
          ],
          "name": "stdout"
        },
        {
          "output_type": "stream",
          "text": [
            "/usr/local/lib/python3.7/dist-packages/sklearn/metrics/_classification.py:1272: UndefinedMetricWarning: Precision is ill-defined and being set to 0.0 in labels with no predicted samples. Use `zero_division` parameter to control this behavior.\n",
            "  _warn_prf(average, modifier, msg_start, len(result))\n"
          ],
          "name": "stderr"
        },
        {
          "output_type": "stream",
          "text": [
            "Precision: \t [0.         0.59851301 0.22394211 0.24526914 0.0732786  0.        ]\n"
          ],
          "name": "stdout"
        },
        {
          "output_type": "stream",
          "text": [
            "/usr/local/lib/python3.7/dist-packages/sklearn/metrics/_classification.py:1272: UndefinedMetricWarning: Recall is ill-defined and being set to 0.0 in labels with no true samples. Use `zero_division` parameter to control this behavior.\n",
            "  _warn_prf(average, modifier, msg_start, len(result))\n"
          ],
          "name": "stderr"
        },
        {
          "output_type": "stream",
          "text": [
            "Recall: \t [0.         0.00935799 0.30134627 0.66938875 0.1465386  0.        ]\n",
            "F1 score: \t [0.         0.01842785 0.25694123 0.3589985  0.09770066 0.        ]\n",
            "RMSE at length 2: 2.7954425784109267 MAE at length 2: 2.7192601917304153\n",
            "RMSE at length 3: 1.6856007998662021 MAE at length 3: 1.5821390975258491\n",
            "RMSE at length 4: 0.9715535177084065 MAE at length 4: 0.7801765345276915\n",
            "RMSE at length 5: 0.5853279211609412 MAE at length 5: 0.3346104238057805\n",
            "RMSE at length 6: 1.168187103634302 MAE at length 6: 1.0233055454874955\n"
          ],
          "name": "stdout"
        },
        {
          "output_type": "display_data",
          "data": {
            "image/png": "[encoded data removed]",
            "text/plain": [
              "<Figure size 432x288 with 1 Axes>"
            ]
          },
          "metadata": {
            "tags": [],
            "needs_background": "light"
          }
        },
        {
          "output_type": "stream",
          "text": [
            "Embedding method:  harp_line Binary operator: concat\n",
            "(154907, 128)\n",
            "Embedded training set size: 1792196\n",
            "Embedded test set size: 621081\n",
            "Train test split summary: \n",
            " Train X shape: (1792196, 256) Train y shape: (1792196,) \n",
            " Test X shape: (621081, 256) Test y shape: (621081,)\n",
            "\n",
            "\n",
            "\n",
            "\n",
            "Epoch 1/15\n",
            "39205/39205 - 67s - loss: 0.6735 - mae: 0.6400 - val_loss: 0.4716 - val_mae: 0.5008\n",
            "Epoch 2/15\n",
            "39205/39205 - 61s - loss: 0.5340 - mae: 0.5620 - val_loss: 0.4345 - val_mae: 0.4766\n",
            "Epoch 3/15\n",
            "39205/39205 - 60s - loss: 0.5005 - mae: 0.5409 - val_loss: 0.3966 - val_mae: 0.4597\n",
            "Epoch 4/15\n",
            "39205/39205 - 59s - loss: 0.4826 - mae: 0.5293 - val_loss: 0.3896 - val_mae: 0.4608\n",
            "Epoch 5/15\n",
            "39205/39205 - 59s - loss: 0.4705 - mae: 0.5214 - val_loss: 0.3984 - val_mae: 0.4633\n",
            "Epoch 6/15\n",
            "39205/39205 - 68s - loss: 0.4624 - mae: 0.5166 - val_loss: 0.4028 - val_mae: 0.4646\n",
            "Epoch 7/15\n",
            "39205/39205 - 68s - loss: 0.4546 - mae: 0.5112 - val_loss: 0.3824 - val_mae: 0.4187\n",
            "Epoch 8/15\n",
            "39205/39205 - 59s - loss: 0.4495 - mae: 0.5079 - val_loss: 0.3713 - val_mae: 0.4375\n",
            "Epoch 9/15\n",
            "39205/39205 - 59s - loss: 0.4450 - mae: 0.5048 - val_loss: 0.3628 - val_mae: 0.4290\n",
            "Epoch 10/15\n",
            "39205/39205 - 59s - loss: 0.4413 - mae: 0.5023 - val_loss: 0.3600 - val_mae: 0.4241\n",
            "Epoch 11/15\n",
            "39205/39205 - 59s - loss: 0.4377 - mae: 0.4998 - val_loss: 0.3618 - val_mae: 0.4142\n",
            "Epoch 12/15\n",
            "39205/39205 - 59s - loss: 0.4342 - mae: 0.4975 - val_loss: 0.3538 - val_mae: 0.4146\n",
            "Epoch 13/15\n",
            "39205/39205 - 59s - loss: 0.4321 - mae: 0.4962 - val_loss: 0.3556 - val_mae: 0.4226\n",
            "Epoch 14/15\n",
            "39205/39205 - 68s - loss: 0.4326 - mae: 0.4966 - val_loss: 0.3905 - val_mae: 0.4621\n",
            "Epoch 15/15\n",
            "39205/39205 - 59s - loss: 0.4359 - mae: 0.4984 - val_loss: 0.3830 - val_mae: 0.4312\n",
            "\n",
            "\n",
            "RMSE: 1.1841984397063858 MAE: 0.9243818439140788 \n",
            "Summary: Train size: 1792196 Test size: 621081\n",
            "Accuracy: 0.309892\n",
            "Paths: \t\t [2 3 4 5 6]\n"
          ],
          "name": "stdout"
        },
        {
          "output_type": "stream",
          "text": [
            "/usr/local/lib/python3.7/dist-packages/sklearn/metrics/_classification.py:1272: UndefinedMetricWarning: Precision is ill-defined and being set to 0.0 in labels with no predicted samples. Use `zero_division` parameter to control this behavior.\n",
            "  _warn_prf(average, modifier, msg_start, len(result))\n"
          ],
          "name": "stderr"
        },
        {
          "output_type": "stream",
          "text": [
            "Precision: \t [0.         0.38040876 0.26493248 0.52535714 0.23943662]\n",
            "Recall: \t [0.00000000e+00 4.70004715e-01 7.06576828e-01 8.98135499e-02\n",
            " 6.16165277e-04]\n",
            "F1 score: \t [0.         0.42048701 0.38536976 0.15340194 0.00122917]\n",
            "RMSE at length 2: 1.6994351387562714 MAE at length 2: 1.629359930279849\n",
            "RMSE at length 3: 0.7564474773698481 MAE at length 3: 0.5440677856640037\n",
            "RMSE at length 4: 0.5418486583627575 MAE at length 4: 0.29348210427061644\n",
            "RMSE at length 5: 1.1558082030718064 MAE at length 5: 1.0520885008433376\n",
            "RMSE at length 6: 2.0425165525261333 MAE at length 6: 1.9863718738673433\n"
          ],
          "name": "stdout"
        },
        {
          "output_type": "display_data",
          "data": {
            "image/png": "[encoded data removed]",
            "text/plain": [
              "<Figure size 432x288 with 1 Axes>"
            ]
          },
          "metadata": {
            "tags": [],
            "needs_background": "light"
          }
        },
        {
          "output_type": "stream",
          "text": [
            "Embedding method:  harp_line Binary operator: conv\n",
            "(154907, 128)\n",
            "Embedded training set size: 1792196\n",
            "Embedded test set size: 621081\n",
            "Train test split summary: \n",
            " Train X shape: (1792196, 2, 128, 1) Train y shape: (1792196,) \n",
            " Test X shape: (621081, 2, 128, 1) Test y shape: (621081,)\n",
            "\n",
            "\n",
            "\n",
            "\n",
            "Epoch 1/15\n",
            "39205/39205 - 82s - loss: 0.6349 - mae: 0.6208 - val_loss: 0.4260 - val_mae: 0.4815\n",
            "Epoch 2/15\n",
            "39205/39205 - 82s - loss: 0.5341 - mae: 0.5638 - val_loss: 0.3906 - val_mae: 0.4597\n",
            "Epoch 3/15\n",
            "39205/39205 - 82s - loss: 0.5083 - mae: 0.5481 - val_loss: 0.3876 - val_mae: 0.4445\n",
            "Epoch 4/15\n",
            "39205/39205 - 78s - loss: 0.4952 - mae: 0.5404 - val_loss: 0.3774 - val_mae: 0.4449\n",
            "Epoch 5/15\n",
            "39205/39205 - 82s - loss: 0.4881 - mae: 0.5359 - val_loss: 0.3992 - val_mae: 0.4655\n",
            "Epoch 6/15\n",
            "39205/39205 - 78s - loss: 0.4818 - mae: 0.5322 - val_loss: 0.3728 - val_mae: 0.4580\n",
            "Epoch 7/15\n",
            "39205/39205 - 78s - loss: 0.4776 - mae: 0.5293 - val_loss: 0.3528 - val_mae: 0.4281\n",
            "Epoch 8/15\n",
            "39205/39205 - 82s - loss: 0.4749 - mae: 0.5277 - val_loss: 0.3577 - val_mae: 0.4335\n",
            "Epoch 9/15\n",
            "39205/39205 - 78s - loss: 0.4722 - mae: 0.5260 - val_loss: 0.3572 - val_mae: 0.4428\n",
            "Epoch 10/15\n",
            "39205/39205 - 78s - loss: 0.4689 - mae: 0.5238 - val_loss: 0.3688 - val_mae: 0.4389\n",
            "Epoch 11/15\n",
            "39205/39205 - 78s - loss: 0.4669 - mae: 0.5230 - val_loss: 0.3805 - val_mae: 0.4860\n",
            "Epoch 12/15\n",
            "39205/39205 - 78s - loss: 0.4655 - mae: 0.5219 - val_loss: 0.3637 - val_mae: 0.4250\n",
            "Epoch 13/15\n",
            "39205/39205 - 78s - loss: 0.4639 - mae: 0.5211 - val_loss: 0.3374 - val_mae: 0.4214\n",
            "Epoch 14/15\n",
            "39205/39205 - 78s - loss: 0.4617 - mae: 0.5194 - val_loss: 0.3890 - val_mae: 0.4747\n",
            "Epoch 15/15\n",
            "39205/39205 - 82s - loss: 0.4606 - mae: 0.5188 - val_loss: 0.3957 - val_mae: 0.4894\n",
            "\n",
            "\n",
            "RMSE: 1.3743328101432368 MAE: 1.0859968345513709 \n",
            "Summary: Train size: 1792196 Test size: 621081\n",
            "Accuracy: 0.267252\n",
            "Paths: \t\t [2 3 4 5 6]\n"
          ],
          "name": "stdout"
        },
        {
          "output_type": "stream",
          "text": [
            "/usr/local/lib/python3.7/dist-packages/sklearn/metrics/_classification.py:1272: UndefinedMetricWarning: Precision is ill-defined and being set to 0.0 in labels with no predicted samples. Use `zero_division` parameter to control this behavior.\n",
            "  _warn_prf(average, modifier, msg_start, len(result))\n"
          ],
          "name": "stderr"
        },
        {
          "output_type": "stream",
          "text": [
            "Precision: \t [0.         0.47369976 0.24677849 0.33073898 0.16853933]\n",
            "Recall: \t [0.00000000e+00 2.07051104e-02 7.77229927e-01 3.36319995e-01\n",
            " 5.43675245e-04]\n",
            "F1 score: \t [0.         0.03967601 0.37461338 0.33350614 0.00108385]\n",
            "RMSE at length 2: 2.2276581566994627 MAE at length 2: 2.1924921726219297\n",
            "RMSE at length 3: 1.1456190845038072 MAE at length 3: 1.0903442886573969\n",
            "RMSE at length 4: 0.472068479295297 MAE at length 4: 0.22279626501132807\n",
            "RMSE at length 5: 0.8246518517399387 MAE at length 5: 0.6691368954490295\n",
            "RMSE at length 6: 1.6816602369656954 MAE at length 6: 1.606886553098949\n"
          ],
          "name": "stdout"
        },
        {
          "output_type": "display_data",
          "data": {
            "image/png": "[encoded data removed]",
            "text/plain": [
              "<Figure size 432x288 with 1 Axes>"
            ]
          },
          "metadata": {
            "tags": [],
            "needs_background": "light"
          }
        }
      ]
    },
    {
      "cell_type": "code",
      "metadata": {
        "id": "OoUJoXy-UJRh"
      },
      "source": [
        ""
      ],
      "execution_count": null,
      "outputs": []
    }
  ]
}